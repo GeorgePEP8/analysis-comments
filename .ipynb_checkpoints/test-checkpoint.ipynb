{
 "cells": [
  {
   "cell_type": "code",
   "execution_count": null,
   "metadata": {
    "id": "uZ0jPNV5z6VB"
   },
   "outputs": [],
   "source": [
    "import re\n",
    "import time\n",
    "from tqdm import tqdm\n",
    " \n",
    "import numpy as np\n",
    "import pandas as pd\n",
    " \n",
    "\n",
    "import matplotlib.pyplot as plt\n",
    "import plotly.graph_objects as go\n",
    "from plotly.subplots import make_subplots\n",
    "\n",
    "from selenium import webdriver\n",
    "\n",
    "import nltk\n",
    "from nltk.corpus import stopwords as nltk_stopwords\n",
    "from pymystem3 import Mystem\n",
    "from wordcloud import WordCloud\n",
    "\n",
    "from sklearn.feature_extraction.text import CountVectorizer\n",
    "from sklearn.feature_extraction.text import TfidfVectorizer\n",
    "from sklearn.model_selection import cross_validate\n",
    "from sklearn.model_selection import train_test_split\n",
    "\n",
    "from sklearn.linear_model import LogisticRegression\n",
    "\n",
    "from sklearn.metrics import *"
   ]
  },
  {
   "cell_type": "code",
   "execution_count": null,
   "metadata": {
    "colab": {
     "base_uri": "https://localhost:8080/"
    },
    "id": "6YEjCndI0oos",
    "outputId": "35913b74-1136-4321-8c3a-799e587045f9"
   },
   "outputs": [],
   "source": [
    "text = ['поиск ответ начинаться исследование интервью отзыв поэтому работник додо это буквально автор герой ролик который посвящать текст спасибо даша весь смена пиццерия вышний волочек то готовить клиент вынос при сниматься ролик спасибо мухаммед москва то приезжать два смена помимо свой два смена ради эпизод чат психологический поддержка спасибо миша екатеринбург армен москва совместный работа адаптация приложение додо незрячий спасибо тренер роман петербург история то сложно угощать ребенок выезд спасибо дарья челябинск благодаря узнавать додстер удобный что протекать рюкзак ольга спасибо отзыв наклейка поменяться много должный портить маникюр кирилл петрозаводск наблюдательность лампа новый интерьер другой андрей волгоград настойчивость темный тема то возможно спасибо все не забывать полагать соус спасибо что принимать и напоминать соус забывать мы вы любить ,', 'годный однако ,', 'офигенный ,', 'прекрасный клип додо хороший пицца ,', 'отличный ролл ,', 'круто ,', 'прекрасно удача ,', 'чело темный тема отвечать ж печально уже лампа делать высокий новый пиццерия сложно все нормальный сделать также суть про психологический поддержка сказать ,', 'ороший ролик вкусный пицца ,', 'додо родной обожать любить весь сердце ,', 'блин классный ролик когда думать то сколько получать самоотверженный человек который вы работать становиться грустно ,', 'нужный этот темный тема если отдельный пункт настройка то так некоторый сайт вкладка приложение она быть это безумно бить глаз долго минута не выдерживать ,', 'додо спасибо пицца за лампа ,', 'додо любить пицца вкусный спасибо готовить я для ,', 'очень классный ролик задумываться будущее полнометражный картина ,', 'какой роль занимать жизнь человек намеренно коверкать русский язык просто необразованный какой роль занимать какой играть значение ,', 'обожать додо пицца какой город не приезжать первый дело искать ваш ресторан крутой ,', 'жаль качество ингридиент смочь удерживать уровень тут понятно что дело чизкейк любимый у ,', 'очень понравиться ролик смысл что не привереда ,', 'интересно какой я шанс выйгрывать учавствовать еще человек ,']\n",
    "for _ in range(10):\n",
    "\n",
    "    print(text[np.random.randint(len(text))])"
   ]
  },
  {
   "cell_type": "code",
   "execution_count": null,
   "metadata": {
    "colab": {
     "base_uri": "https://localhost:8080/",
     "height": 677
    },
    "id": "Era-Vq9T0zHo",
    "outputId": "c4e20379-47ec-4c68-a0ad-2011a082b675"
   },
   "outputs": [],
   "source": [
    "data_df = pd.DataFrame({'comment':text})\n",
    "\n",
    "data_df.to_csv('\\\\data.csv')\n",
    "\n",
    "data_df"
   ]
  },
  {
   "cell_type": "code",
   "execution_count": null,
   "metadata": {
    "id": "vXjuFBv0_n_H"
   },
   "outputs": [],
   "source": [
    "positive = pd.read_csv('russian_sentiment_tweet_automated_labeled/positive.csv',\n",
    "                       sep = ';',\n",
    "                       header= None\n",
    "                      )\n",
    "\n",
    "negative = pd.read_csv('russian_sentiment_tweet_automated_labeled/positive.csv',\n",
    "                       sep = ';',\n",
    "                       header= None\n",
    "                      )"
   ]
  },
  {
   "cell_type": "code",
   "execution_count": null,
   "metadata": {
    "id": "czNbD8dUAjQf"
   },
   "outputs": [],
   "source": [
    "positive_text = pd.DataFrame(positive.iloc[:, 3])\n",
    "negative_text = pd.DataFrame(negative.iloc[:, 3])"
   ]
  },
  {
   "cell_type": "code",
   "execution_count": null,
   "metadata": {
    "id": "BB4cPh7zAkZG"
   },
   "outputs": [],
   "source": [
    "positive_text['label'] = [1] * positive_text.shape[0]\n",
    "negative_text['label'] = [0] * negative_text.shape[0]"
   ]
  },
  {
   "cell_type": "code",
   "execution_count": null,
   "metadata": {
    "id": "9pDafFUWAmnh"
   },
   "outputs": [],
   "source": [
    "labeled_tweets = pd.concat([positive_text, negative_text])"
   ]
  },
  {
   "cell_type": "code",
   "execution_count": null,
   "metadata": {
    "id": "uOlGBzMrAoK1"
   },
   "outputs": [],
   "source": [
    "labeled_tweets.index = range(labeled_tweets.shape[0])"
   ]
  },
  {
   "cell_type": "code",
   "execution_count": null,
   "metadata": {
    "colab": {
     "base_uri": "https://localhost:8080/",
     "height": 424
    },
    "id": "goH7ywCyAprI",
    "outputId": "15eee27c-b213-4705-b3f3-8ab82c56bf53"
   },
   "outputs": [],
   "source": [
    "labeled_tweets.columns = ['text', 'label']\n",
    "labeled_tweets"
   ]
  },
  {
   "cell_type": "markdown",
   "metadata": {
    "id": "NfoSl8DVBNCg"
   },
   "source": [
    "#Очистка размеченного датасета"
   ]
  },
  {
   "cell_type": "code",
   "execution_count": null,
   "metadata": {
    "id": "faLEs6Z0BObq"
   },
   "outputs": [],
   "source": [
    "# Оставим в тексте только кириллические символы\n",
    "def clear_text(text):\n",
    "    clear_text = re.sub(r'[^А-яЁё]+', ' ', text).lower()\n",
    "    return \" \".join(clear_text.split())\n",
    "    \n",
    "\n",
    "# напишем функцию удаляющую стоп-слова\n",
    "def clean_stop_words(text, stopwords):\n",
    "    text = [word for word in text.split() if word not in stopwords]\n",
    "    return \" \".join(text)"
   ]
  },
  {
   "cell_type": "code",
   "execution_count": null,
   "metadata": {
    "colab": {
     "base_uri": "https://localhost:8080/"
    },
    "id": "ln1VHSxJDKH5",
    "outputId": "972d65db-8c9f-44ec-bad8-0936e4c5e0da"
   },
   "outputs": [],
   "source": [
    "# загрузим список стоп-слов\n",
    "stopwords = set(nltk_stopwords.words('russian'))\n",
    "np.array(stopwords)"
   ]
  },
  {
   "cell_type": "code",
   "execution_count": null,
   "metadata": {
    "colab": {
     "base_uri": "https://localhost:8080/"
    },
    "id": "pndGmFEjEExT",
    "outputId": "8f4642e6-74ae-49a4-e75b-33d518b0f542"
   },
   "outputs": [],
   "source": [
    "# Протестируем работу функции очистки текста\n",
    "text = labeled_tweets['text'][np.random.randint(labeled_tweets.shape[0])]\n",
    "print(text)\n",
    "print('=======================================')\n",
    "print(clean_stop_words((clear_text(text)), stopwords))"
   ]
  },
  {
   "cell_type": "code",
   "execution_count": null,
   "metadata": {
    "colab": {
     "base_uri": "https://localhost:8080/"
    },
    "id": "chrwG45SFUu9",
    "outputId": "576887d5-3b9f-4a8e-f134-b88d89304e47"
   },
   "outputs": [],
   "source": [
    "start_clean = time.time()\n",
    "\n",
    "labeled_tweets['text_clear'] = labeled_tweets['text'].apply(lambda x: clean_stop_words(clear_text(str(x)), stopwords))\n",
    "\n",
    "print('Обработка текстов заняла: '+str(round(time.time() - start_clean, 2))+' секунд')"
   ]
  },
  {
   "cell_type": "code",
   "execution_count": null,
   "metadata": {
    "colab": {
     "base_uri": "https://localhost:8080/",
     "height": 424
    },
    "id": "9cfAUwoPFtx8",
    "outputId": "cfd9425a-6bc7-474b-9625-5e16bfde9d9e"
   },
   "outputs": [],
   "source": [
    "labeled_tweets = labeled_tweets[['text_clear', 'label']]\n",
    "labeled_tweets"
   ]
  },
  {
   "cell_type": "code",
   "execution_count": null,
   "metadata": {
    "id": "h2yv7wIQFto_"
   },
   "outputs": [],
   "source": [
    "labeled_tweets.to_csv('labeled_tweets_clean.csv')"
   ]
  },
  {
   "cell_type": "markdown",
   "metadata": {
    "id": "aeQC40jSGU9c"
   },
   "source": [
    "#Загрузка размеченного датасета Linis Crowd"
   ]
  },
  {
   "cell_type": "code",
   "execution_count": null,
   "metadata": {
    "id": "v8qZKrKyQ03Z"
   },
   "outputs": [],
   "source": [
    "labeled_tweets[['text']] = labeled_tweets[['text_clear']]\n",
    "joned_text  = labeled_tweets"
   ]
  },
  {
   "cell_type": "code",
   "execution_count": null,
   "metadata": {
    "colab": {
     "base_uri": "https://localhost:8080/"
    },
    "id": "9TYbotfDRJMj",
    "outputId": "7e742bff-2a5f-4d06-8659-4816463f2e40"
   },
   "outputs": [],
   "source": [
    "joned_text.label.value_counts()"
   ]
  },
  {
   "cell_type": "code",
   "execution_count": null,
   "metadata": {
    "id": "8q_RWjQ_RQ2P"
   },
   "outputs": [],
   "source": [
    "joned_text.columns = ['text', 'lemm_text', 'label']"
   ]
  },
  {
   "cell_type": "code",
   "execution_count": null,
   "metadata": {
    "id": "9vEA26sCRQvh"
   },
   "outputs": [],
   "source": [
    "joned_text.index = range(joned_text.shape[0])"
   ]
  },
  {
   "cell_type": "code",
   "execution_count": null,
   "metadata": {
    "colab": {
     "base_uri": "https://localhost:8080/"
    },
    "id": "ymApzuIFRULQ",
    "outputId": "76adab36-096a-4cea-d0ba-d7972c454440"
   },
   "outputs": [],
   "source": [
    "joned_text.isna().sum()"
   ]
  },
  {
   "cell_type": "markdown",
   "metadata": {
    "id": "R160Qe2JQ1Lv"
   },
   "source": [
    "#Получение TF-IDF векторных представлений размеченных текстов\n",
    "\n",
    "Для обучения классификатора получим значения IDF (inference document frequency) для слов из тренировочного набора данных, значения IDF равны логарифму отношения количества документов к количеству документов содержащих искомое слово. Например для стандартных слов, которые встречаются практически в любом тексте IDF будет близок к единице, а для специфичных, которые встречаются в одном тексте из 100 это значение будет равно уже 2 (если мы берем основание логарифма 10).\n",
    "\n",
    "\n",
    "Затем получив словарь со значениями IDF мы можем получить векторное представление каждого текста по следующему принципу, значения IDF слова умножаем на значения"
   ]
  },
  {
   "cell_type": "code",
   "execution_count": null,
   "metadata": {
    "id": "9xMtnimuRnzi"
   },
   "outputs": [],
   "source": [
    "sample_1 = joned_text\n",
    "sample_1.columns = ['text', 'text_lemm', 'label']"
   ]
  },
  {
   "cell_type": "code",
   "execution_count": null,
   "metadata": {
    "colab": {
     "base_uri": "https://localhost:8080/"
    },
    "id": "9V0KWWtfSTL8",
    "outputId": "924bced1-90b2-49e4-d568-065e0ae84412"
   },
   "outputs": [],
   "source": [
    "# предварительно разделим выборку на тестовую и обучающую\n",
    "train, test = train_test_split(sample_1,\n",
    "                        test_size = 0.2,\n",
    "                        random_state = 12348,\n",
    "                       )\n",
    "\n",
    "print(train.shape)\n",
    "print(test.shape)"
   ]
  },
  {
   "cell_type": "code",
   "execution_count": null,
   "metadata": {
    "colab": {
     "base_uri": "https://localhost:8080/",
     "height": 468
    },
    "id": "5u6JzmvVSW00",
    "outputId": "04a64751-74f0-4f03-d9c2-83851a6c6b17"
   },
   "outputs": [],
   "source": [
    "train"
   ]
  },
  {
   "cell_type": "code",
   "execution_count": null,
   "metadata": {
    "colab": {
     "base_uri": "https://localhost:8080/"
    },
    "id": "PQN_6VEvSYjf",
    "outputId": "8703cf64-e458-4c6f-9147-9bceed59a327"
   },
   "outputs": [],
   "source": [
    "# Сравним распределение целевого признака\n",
    "for sample in [train, test]:    \n",
    "    print(sample[sample['label'] == 1].shape[0] / sample.shape[0])"
   ]
  },
  {
   "cell_type": "markdown",
   "metadata": {
    "id": "NuN_yv5iSzx4"
   },
   "source": [
    "#Предварительное обучение моделей"
   ]
  },
  {
   "cell_type": "code",
   "execution_count": null,
   "metadata": {
    "id": "SHQ7-Z1bS1lw"
   },
   "outputs": [],
   "source": [
    "\n",
    "# Получим векторные представления текстов\n",
    "count_idf_1 = TfidfVectorizer(ngram_range=(1,1))"
   ]
  },
  {
   "cell_type": "code",
   "execution_count": null,
   "metadata": {
    "id": "_ZfsprMwS3f2"
   },
   "outputs": [],
   "source": [
    "tf_idf_base_1 = count_idf_1.fit(sample_1['text'])\n",
    "tf_idf_train_base_1 = count_idf_1.transform(train['text'])\n",
    "tf_idf_test_base_1 = count_idf_1.transform(test['text'])"
   ]
  },
  {
   "cell_type": "code",
   "execution_count": null,
   "metadata": {
    "colab": {
     "base_uri": "https://localhost:8080/",
     "height": 52
    },
    "id": "0DET98t4S6To",
    "outputId": "61a2ec3f-72d2-438d-e04a-5185ddde962b"
   },
   "outputs": [],
   "source": [
    "display(tf_idf_test_base_1.shape)\n",
    "display(tf_idf_train_base_1.shape)"
   ]
  },
  {
   "cell_type": "code",
   "execution_count": null,
   "metadata": {
    "id": "E5J3xmtoS7Rw"
   },
   "outputs": [],
   "source": [
    "model_lr_base_1 = LogisticRegression(solver = 'lbfgs',\n",
    "                                    random_state = 12345,\n",
    "                                    max_iter= 10000,\n",
    "                                     n_jobs=-1)\n",
    "print(finish)"
   ]
  },
  {
   "cell_type": "code",
   "execution_count": null,
   "metadata": {
    "id": "DzbDfzAsTAAl"
   },
   "outputs": [],
   "source": [
    "model_lr_base_1.fit(tf_idf_train_base_1, train['label'])"
   ]
  },
  {
   "cell_type": "code",
   "execution_count": null,
   "metadata": {
    "id": "dA6VwzqkTCwb"
   },
   "outputs": [],
   "source": [
    "predict_lr_base_proba = model_lr_base_1.predict_proba(tf_idf_test_base_1)"
   ]
  },
  {
   "cell_type": "code",
   "execution_count": null,
   "metadata": {},
   "outputs": [],
   "source": []
  },
  {
   "cell_type": "code",
   "execution_count": null,
   "metadata": {},
   "outputs": [],
   "source": []
  }
 ],
 "metadata": {
  "colab": {
   "collapsed_sections": [],
   "history_visible": true,
   "name": "test.ipynb",
   "provenance": []
  },
  "gpuClass": "standard",
  "kernelspec": {
   "display_name": "Python 3 (ipykernel)",
   "language": "python",
   "name": "python3"
  },
  "language_info": {
   "codemirror_mode": {
    "name": "ipython",
    "version": 3
   },
   "file_extension": ".py",
   "mimetype": "text/x-python",
   "name": "python",
   "nbconvert_exporter": "python",
   "pygments_lexer": "ipython3",
   "version": "3.7.9"
  }
 },
 "nbformat": 4,
 "nbformat_minor": 1
}
