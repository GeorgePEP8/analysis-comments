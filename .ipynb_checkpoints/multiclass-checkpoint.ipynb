{
 "cells": [
  {
   "cell_type": "code",
   "execution_count": 1,
   "metadata": {
    "id": "z6bWtAcW9Pmm"
   },
   "outputs": [],
   "source": [
    "import pandas as pd\n",
    "import numpy as np\n",
    "from tqdm.auto import tqdm, trange"
   ]
  },
  {
   "cell_type": "code",
   "execution_count": null,
   "metadata": {
    "id": "38qmy2Oy9Pmp",
    "outputId": "e7857efa-89b8-4383-8934-8455fde78478"
   },
   "outputs": [
    {
     "name": "stderr",
     "output_type": "stream",
     "text": [
      "C:\\ProgramData\\Anaconda3\\lib\\site-packages\\IPython\\core\\interactiveshell.py:3071: DtypeWarning: Columns (3) have mixed types.Specify dtype option on import or set low_memory=False.\n",
      "  has_raised = await self.run_ast_nodes(code_ast.body, cell_name,\n"
     ]
    }
   ],
   "source": [
    "data = pd.read_csv('lenta-ru-news.csv')"
   ]
  },
  {
   "cell_type": "code",
   "execution_count": null,
   "metadata": {
    "id": "sAoATB_s9Pmq",
    "outputId": "e6fc1132-3af9-4d1c-c1b5-e19e852a1fe2"
   },
   "outputs": [
    {
     "data": {
      "text/plain": [
       "(800975, 6)"
      ]
     },
     "execution_count": 97,
     "metadata": {},
     "output_type": "execute_result"
    }
   ],
   "source": [
    "data.shape"
   ]
  },
  {
   "cell_type": "code",
   "execution_count": null,
   "metadata": {
    "id": "WzFBRvVj9Pmr"
   },
   "outputs": [],
   "source": [
    "data = data[:100000]"
   ]
  },
  {
   "cell_type": "code",
   "execution_count": null,
   "metadata": {
    "id": "gaiJ6rTT9Pmr",
    "outputId": "02d971bd-2e33-4c50-e7e9-d863f1f51112"
   },
   "outputs": [
    {
     "data": {
      "text/html": [
       "<div>\n",
       "<style scoped>\n",
       "    .dataframe tbody tr th:only-of-type {\n",
       "        vertical-align: middle;\n",
       "    }\n",
       "\n",
       "    .dataframe tbody tr th {\n",
       "        vertical-align: top;\n",
       "    }\n",
       "\n",
       "    .dataframe thead th {\n",
       "        text-align: right;\n",
       "    }\n",
       "</style>\n",
       "<table border=\"1\" class=\"dataframe\">\n",
       "  <thead>\n",
       "    <tr style=\"text-align: right;\">\n",
       "      <th></th>\n",
       "      <th>url</th>\n",
       "      <th>title</th>\n",
       "      <th>text</th>\n",
       "      <th>topic</th>\n",
       "      <th>tags</th>\n",
       "    </tr>\n",
       "  </thead>\n",
       "  <tbody>\n",
       "    <tr>\n",
       "      <th>0</th>\n",
       "      <td>https://lenta.ru/news/2018/12/14/cancer/</td>\n",
       "      <td>Названы регионы России с самой высокой смертно...</td>\n",
       "      <td>Вице-премьер по социальным вопросам Татьяна Го...</td>\n",
       "      <td>Россия</td>\n",
       "      <td>Общество</td>\n",
       "    </tr>\n",
       "    <tr>\n",
       "      <th>1</th>\n",
       "      <td>https://lenta.ru/news/2018/12/15/doping/</td>\n",
       "      <td>Австрия не представила доказательств вины росс...</td>\n",
       "      <td>Австрийские правоохранительные органы не предс...</td>\n",
       "      <td>Спорт</td>\n",
       "      <td>Зимние виды</td>\n",
       "    </tr>\n",
       "    <tr>\n",
       "      <th>2</th>\n",
       "      <td>https://lenta.ru/news/2018/12/15/disneyland/</td>\n",
       "      <td>Обнаружено самое счастливое место на планете</td>\n",
       "      <td>Сотрудники социальной сети Instagram проанализ...</td>\n",
       "      <td>Путешествия</td>\n",
       "      <td>Мир</td>\n",
       "    </tr>\n",
       "    <tr>\n",
       "      <th>3</th>\n",
       "      <td>https://lenta.ru/news/2018/12/15/usa25/</td>\n",
       "      <td>В США раскрыли сумму расходов на расследование...</td>\n",
       "      <td>С начала расследования российского вмешательст...</td>\n",
       "      <td>Мир</td>\n",
       "      <td>Политика</td>\n",
       "    </tr>\n",
       "    <tr>\n",
       "      <th>4</th>\n",
       "      <td>https://lenta.ru/news/2018/12/15/integrity/</td>\n",
       "      <td>Хакеры рассказали о планах Великобритании зами...</td>\n",
       "      <td>Хакерская группировка Anonymous опубликовала н...</td>\n",
       "      <td>Мир</td>\n",
       "      <td>Общество</td>\n",
       "    </tr>\n",
       "  </tbody>\n",
       "</table>\n",
       "</div>"
      ],
      "text/plain": [
       "                                            url  \\\n",
       "0      https://lenta.ru/news/2018/12/14/cancer/   \n",
       "1      https://lenta.ru/news/2018/12/15/doping/   \n",
       "2  https://lenta.ru/news/2018/12/15/disneyland/   \n",
       "3       https://lenta.ru/news/2018/12/15/usa25/   \n",
       "4   https://lenta.ru/news/2018/12/15/integrity/   \n",
       "\n",
       "                                               title  \\\n",
       "0  Названы регионы России с самой высокой смертно...   \n",
       "1  Австрия не представила доказательств вины росс...   \n",
       "2       Обнаружено самое счастливое место на планете   \n",
       "3  В США раскрыли сумму расходов на расследование...   \n",
       "4  Хакеры рассказали о планах Великобритании зами...   \n",
       "\n",
       "                                                text        topic         tags  \n",
       "0  Вице-премьер по социальным вопросам Татьяна Го...       Россия     Общество  \n",
       "1  Австрийские правоохранительные органы не предс...        Спорт  Зимние виды  \n",
       "2  Сотрудники социальной сети Instagram проанализ...  Путешествия          Мир  \n",
       "3  С начала расследования российского вмешательст...          Мир     Политика  \n",
       "4  Хакерская группировка Anonymous опубликовала н...          Мир     Общество  "
      ]
     },
     "execution_count": 6,
     "metadata": {},
     "output_type": "execute_result"
    }
   ],
   "source": [
    "data.head(5)"
   ]
  },
  {
   "cell_type": "code",
   "execution_count": null,
   "metadata": {
    "id": "IODjeaX-9Pms",
    "outputId": "fd40ac2f-8a99-40ae-e379-2776a1d8b4d0"
   },
   "outputs": [
    {
     "name": "stdout",
     "output_type": "stream",
     "text": [
      "['Общество' 'Зимние виды' 'Мир' 'Политика' 'Украина' 'Coцсети'\n",
      " 'Следствие и суд' 'Хоккей' 'Деньги' 'Госэкономика' 'Происшествия'\n",
      " 'Футбол' 'Бизнес' 'Музыка' 'Квартира' 'Бокс и ММА' 'Театр' 'Оружие'\n",
      " 'Дача' 'Прибалтика' 'Рынки' 'Звери' 'Техника' 'Интернет' 'Люди' 'Наука'\n",
      " 'Внешний вид' 'Кино' 'ТВ и радио' 'Регионы' 'Космос' 'Явления' 'Стиль'\n",
      " 'Белоруссия' 'События' 'Деловой климат' 'Все' 'Искусство' 'Движение'\n",
      " 'Преступность' 'Криминал' 'Жизнь' 'Мнения' 'Полиция и спецслужбы'\n",
      " 'Конфликты' 'Авто' 'Книги' 'Вкусы' 'Фотография' 'Реклама' 'Закавказье'\n",
      " nan 'Часы' 'Летние виды' 'Россия' 'Пресса' 'Вещи' 'История' 'Игры'\n",
      " 'Достижения' 'Офис' 'Средняя Азия' 'Еда' 'Москва' 'Социальная сфера'\n",
      " 'Молдавия' 'Преступная Россия' 'Гаджеты' 'Город' 'Киберпреступность'\n",
      " 'Страноведение' 'Софт' 'Инструменты' 'Вирусные ролики' 'Экология'\n",
      " 'Выборы' 'Мемы' 'Наследие' 'Туризм' 'Вооружение' 'Мировой бизнес'\n",
      " 'Автобизнес' 'Финансы компаний'] 83\n"
     ]
    }
   ],
   "source": [
    "print(data['tags'].unique(), len(data['tags'].unique()))"
   ]
  },
  {
   "cell_type": "code",
   "execution_count": null,
   "metadata": {
    "id": "r6quMPdg9Pms",
    "outputId": "10596365-e10a-4359-99f1-abde3c3871b4"
   },
   "outputs": [
    {
     "name": "stdout",
     "output_type": "stream",
     "text": [
      "['Россия' 'Спорт' 'Путешествия' 'Мир' 'Бывший СССР' 'Интернет и СМИ'\n",
      " 'Силовые структуры' 'Экономика' 'Культура' 'Дом' 'Наука и техника'\n",
      " 'Из жизни' 'Ценности' 'Бизнес' '69-я параллель' nan 'Культпросвет '\n",
      " 'Крым' 'Оружие'] 19\n"
     ]
    }
   ],
   "source": [
    "print(data['topic'].unique(), len(data['topic'].unique()))"
   ]
  },
  {
   "cell_type": "markdown",
   "metadata": {
    "id": "iEtfjg_X9Pmt"
   },
   "source": [
    "## Выборка данных"
   ]
  },
  {
   "cell_type": "code",
   "execution_count": null,
   "metadata": {
    "id": "h2BXSydQ9Pmu"
   },
   "outputs": [],
   "source": [
    "topics = ['Путешествия', 'Ценности', 'Мир', 'Наука и техника', 'Экономика']\n",
    "news_in_cat_count = 2000"
   ]
  },
  {
   "cell_type": "code",
   "execution_count": null,
   "metadata": {
    "colab": {
     "referenced_widgets": [
      "3d42dad75e3f48fdb986b2ca4d1624f9"
     ]
    },
    "id": "7M5nXCLI9Pmv",
    "outputId": "38312ccd-8480-4fb2-d4bc-2f5f9432b458"
   },
   "outputs": [
    {
     "data": {
      "application/vnd.jupyter.widget-view+json": {
       "model_id": "3d42dad75e3f48fdb986b2ca4d1624f9",
       "version_major": 2,
       "version_minor": 0
      },
      "text/plain": [
       "HBox(children=(FloatProgress(value=0.0, max=5.0), HTML(value='')))"
      ]
     },
     "metadata": {},
     "output_type": "display_data"
    },
    {
     "name": "stdout",
     "output_type": "stream",
     "text": [
      "\n"
     ]
    }
   ],
   "source": [
    "df_res = pd.DataFrame()\n",
    "\n",
    "for topic in tqdm(topics):\n",
    "    df_topic = data[data['topic'] == topic][:news_in_cat_count]\n",
    "    df_res = df_res.append(df_topic, ignore_index=True)"
   ]
  },
  {
   "cell_type": "code",
   "execution_count": null,
   "metadata": {
    "id": "yCD2fWRg9Pmw",
    "outputId": "df84c7b2-9110-43ba-9297-61e78d5a0875"
   },
   "outputs": [
    {
     "data": {
      "text/plain": [
       "(10000, 6)"
      ]
     },
     "execution_count": 100,
     "metadata": {},
     "output_type": "execute_result"
    }
   ],
   "source": [
    "df_res.shape"
   ]
  },
  {
   "cell_type": "markdown",
   "metadata": {
    "id": "l-1qkvUk9Pmw"
   },
   "source": [
    "## Предобработка"
   ]
  },
  {
   "cell_type": "code",
   "execution_count": null,
   "metadata": {
    "id": "-pdwBk_r9Pmx"
   },
   "outputs": [],
   "source": [
    "import string\n",
    "def remove_punctuation(text):\n",
    "    return \"\".join([ch if ch not in string.punctuation else ' ' for ch in text])\n",
    "\n",
    "def remove_numbers(text):\n",
    "    return ''.join([i if not i.isdigit() else ' ' for i in text])\n",
    "\n",
    "import re\n",
    "def remove_multiple_spaces(text):\n",
    "\treturn re.sub(r'\\s+', ' ', text, flags=re.I)\n",
    "\n",
    "from nltk.stem import *\n",
    "from nltk.corpus import stopwords\n",
    "from pymystem3 import Mystem\n",
    "from string import punctuation\n",
    "mystem = Mystem() \n",
    "\n",
    "russian_stopwords = stopwords.words(\"russian\")\n",
    "russian_stopwords.extend(['…', '«', '»', '...'])\n",
    "def lemmatize_text(text):\n",
    "    tokens = mystem.lemmatize(text.lower())\n",
    "    tokens = [token for token in tokens if token not in russian_stopwords and token != \" \"]\n",
    "    text = \" \".join(tokens)\n",
    "    return text"
   ]
  },
  {
   "cell_type": "code",
   "execution_count": null,
   "metadata": {
    "id": "LMonxkQu9Pmx"
   },
   "outputs": [],
   "source": [
    "preproccessing = lambda text: (remove_multiple_spaces(remove_numbers(remove_punctuation(text))))\n",
    "data['preproccessed'] = list(map(preproccessing, df_res['text']))"
   ]
  },
  {
   "cell_type": "code",
   "execution_count": null,
   "metadata": {
    "colab": {
     "referenced_widgets": [
      "e34da27c1a3647eda8a1db238ed470d2"
     ]
    },
    "id": "Z6JJutsz9Pmx",
    "outputId": "70b98d33-a0c9-469f-fedf-4d80a5521fcb"
   },
   "outputs": [
    {
     "data": {
      "application/vnd.jupyter.widget-view+json": {
       "model_id": "e34da27c1a3647eda8a1db238ed470d2",
       "version_major": 2,
       "version_minor": 0
      },
      "text/plain": [
       "HBox(children=(FloatProgress(value=0.0, max=10000.0), HTML(value='')))"
      ]
     },
     "metadata": {},
     "output_type": "display_data"
    },
    {
     "name": "stdout",
     "output_type": "stream",
     "text": [
      "\n"
     ]
    }
   ],
   "source": [
    "prep_text = [remove_multiple_spaces(remove_numbers(remove_punctuation(text.lower()))) for text in tqdm(df_res['text'])]"
   ]
  },
  {
   "cell_type": "code",
   "execution_count": null,
   "metadata": {
    "id": "7MUrQCSl9Pmy",
    "outputId": "564464b5-bc6b-453c-c4f0-0878e00e74e8"
   },
   "outputs": [
    {
     "data": {
      "text/plain": [
       "'названы самые раздражающие фотографии которые уехавшие в отпуск люди выкладывают в социальные сети сообщает the daily mail соответствующий антирейтинг был составлен на основе опроса посетителей онлайн сервиса для туристов top com интернет пользователи назвали самым раздражающим видом снимков с отдыха скриншоты прогноза погоды в месте пребывания — процент опрошенных не желают видеть такие фото в своей новостной ленте в соцсети особое недовольство вызывают селфи они бесят процента респондентов замыкает тройку лидеров негатива такой вид фото как hot dog legs многие любят фотографировать свои загорелые конечности на фоне моря бассейна и т д «ноги сосиски» в соцсетях портят настроение процентам опрошенных самые ненавистные для пользователей типы снимков друзей расположились в рейтинге top com так скриншоты из iphone о прогнозе погоды на курорте отпускные селфи снимки ног на фоне моря бассейна и т д так называемые hot dog legs фотографии в прыжке оптические иллюзии например эйфелева башня на ладони фото надписей на песке фото с тантамаресками снимки закатов фото неба и пальм фото напитков и еды представитель top com алекс баттл alex buttle отметил что составители рейтинга не собирались ставить «банальные снимки» в укор интернет пользователям по словам баттла в компании осознают что причиной по которой многие пользователи проголосовали за те или иные виды фото может быть не раздражение а зависть '"
      ]
     },
     "execution_count": 103,
     "metadata": {},
     "output_type": "execute_result"
    }
   ],
   "source": [
    "len(prep_text)\n",
    "prep_text[0]"
   ]
  },
  {
   "cell_type": "code",
   "execution_count": null,
   "metadata": {
    "id": "BElRJaRh9Pmy"
   },
   "outputs": [],
   "source": [
    "df_res['text_prep'] = prep_text"
   ]
  },
  {
   "cell_type": "code",
   "execution_count": null,
   "metadata": {
    "id": "UhGAF8pO9Pmy",
    "outputId": "9286ab4b-6987-4a60-9660-68a7791d874d"
   },
   "outputs": [
    {
     "data": {
      "text/html": [
       "<div>\n",
       "<style scoped>\n",
       "    .dataframe tbody tr th:only-of-type {\n",
       "        vertical-align: middle;\n",
       "    }\n",
       "\n",
       "    .dataframe tbody tr th {\n",
       "        vertical-align: top;\n",
       "    }\n",
       "\n",
       "    .dataframe thead th {\n",
       "        text-align: right;\n",
       "    }\n",
       "</style>\n",
       "<table border=\"1\" class=\"dataframe\">\n",
       "  <thead>\n",
       "    <tr style=\"text-align: right;\">\n",
       "      <th></th>\n",
       "      <th>url</th>\n",
       "      <th>title</th>\n",
       "      <th>text</th>\n",
       "      <th>topic</th>\n",
       "      <th>tags</th>\n",
       "      <th>text_prep</th>\n",
       "    </tr>\n",
       "  </thead>\n",
       "  <tbody>\n",
       "    <tr>\n",
       "      <th>0</th>\n",
       "      <td>https://lenta.ru/news/2018/12/15/disneyland/</td>\n",
       "      <td>Обнаружено самое счастливое место на планете</td>\n",
       "      <td>Сотрудники социальной сети Instagram проанализ...</td>\n",
       "      <td>Путешествия</td>\n",
       "      <td>Мир</td>\n",
       "      <td>сотрудники социальной сети instagram проанализ...</td>\n",
       "    </tr>\n",
       "  </tbody>\n",
       "</table>\n",
       "</div>"
      ],
      "text/plain": [
       "                                            url  \\\n",
       "0  https://lenta.ru/news/2018/12/15/disneyland/   \n",
       "\n",
       "                                          title  \\\n",
       "0  Обнаружено самое счастливое место на планете   \n",
       "\n",
       "                                                text        topic tags  \\\n",
       "0  Сотрудники социальной сети Instagram проанализ...  Путешествия  Мир   \n",
       "\n",
       "                                           text_prep  \n",
       "0  сотрудники социальной сети instagram проанализ...  "
      ]
     },
     "execution_count": 27,
     "metadata": {},
     "output_type": "execute_result"
    }
   ],
   "source": [
    "df_res.head(1)"
   ]
  },
  {
   "cell_type": "markdown",
   "metadata": {
    "id": "M4OmeSSL9Pmz"
   },
   "source": [
    "### Стемминг"
   ]
  },
  {
   "cell_type": "code",
   "execution_count": null,
   "metadata": {
    "id": "QpMS3k2o9Pmz"
   },
   "outputs": [],
   "source": [
    "from nltk.stem.snowball import SnowballStemmer \n",
    "stemmer = SnowballStemmer(\"russian\") "
   ]
  },
  {
   "cell_type": "code",
   "execution_count": null,
   "metadata": {
    "id": "ArWO2CfX9Pmz"
   },
   "outputs": [],
   "source": [
    "russian_stopwords = stopwords.words(\"russian\")\n",
    "russian_stopwords.extend(['…', '«', '»', '...', 'т.д.', 'т', 'д'])"
   ]
  },
  {
   "cell_type": "code",
   "execution_count": null,
   "metadata": {
    "id": "wXolFfOR9Pmz"
   },
   "outputs": [],
   "source": [
    "text = df_res['text_prep'][0]\n",
    "word_tokenize(text) "
   ]
  },
  {
   "cell_type": "code",
   "execution_count": null,
   "metadata": {
    "id": "0ACPxcx49Pm0",
    "outputId": "e36ed6f6-0865-4b6e-a372-ccac4323f080"
   },
   "outputs": [
    {
     "data": {
      "application/vnd.jupyter.widget-view+json": {
       "model_id": "43d8e026b1744a5bb87395cdb3be232e",
       "version_major": 2,
       "version_minor": 0
      },
      "text/plain": [
       "HBox(children=(FloatProgress(value=0.0, max=10000.0), HTML(value='')))"
      ]
     },
     "metadata": {},
     "output_type": "display_data"
    },
    {
     "name": "stdout",
     "output_type": "stream",
     "text": [
      "\n"
     ]
    }
   ],
   "source": [
    "from nltk import word_tokenize\n",
    "\n",
    "stemmed_texts_list = []\n",
    "for text in tqdm(df_res['text_prep']):\n",
    "    tokens = word_tokenize(text)    \n",
    "    stemmed_tokens = [stemmer.stem(token) for token in tokens if token not in russian_stopwords]\n",
    "    text = \" \".join(stemmed_tokens)\n",
    "    stemmed_texts_list.append(text)\n",
    "\n",
    "df_res['text_stem'] = stemmed_texts_list\n"
   ]
  },
  {
   "cell_type": "code",
   "execution_count": null,
   "metadata": {
    "id": "DvkhhPaN9Pm0",
    "outputId": "b70bc295-7ee1-4d5a-bb3c-31839f3e93ca"
   },
   "outputs": [
    {
     "name": "stderr",
     "output_type": "stream",
     "text": [
      "[nltk_data] Downloading package punkt to\n",
      "[nltk_data]     C:\\Users\\Администратор\\AppData\\Roaming\\nltk_data...\n",
      "[nltk_data]   Package punkt is already up-to-date!\n"
     ]
    },
    {
     "data": {
      "text/plain": [
       "True"
      ]
     },
     "execution_count": 110,
     "metadata": {},
     "output_type": "execute_result"
    }
   ],
   "source": [
    "import nltk\n",
    "nltk.download('punkt')"
   ]
  },
  {
   "cell_type": "code",
   "execution_count": null,
   "metadata": {
    "id": "xEzLbHSZ9Pm0"
   },
   "outputs": [],
   "source": [
    "def remove_stop_words(text):\n",
    "    tokens = word_tokenize(text) \n",
    "    tokens = [token for token in tokens if token not in russian_stopwords and token != ' ']\n",
    "    return \" \".join(tokens)"
   ]
  },
  {
   "cell_type": "code",
   "execution_count": null,
   "metadata": {
    "id": "G0w9ElxX9Pm0",
    "outputId": "ff27ed81-4a13-4884-8a54-766fd1788c2e"
   },
   "outputs": [
    {
     "data": {
      "application/vnd.jupyter.widget-view+json": {
       "model_id": "ffe537c48bff4aef8652283650b13cf8",
       "version_major": 2,
       "version_minor": 0
      },
      "text/plain": [
       "HBox(children=(FloatProgress(value=0.0, max=10000.0), HTML(value='')))"
      ]
     },
     "metadata": {},
     "output_type": "display_data"
    },
    {
     "name": "stdout",
     "output_type": "stream",
     "text": [
      "\n"
     ]
    }
   ],
   "source": [
    "from nltk import word_tokenize\n",
    "\n",
    "sw_texts_list = []\n",
    "for text in tqdm(df_res['text_prep']):\n",
    "    tokens = word_tokenize(text)    \n",
    "    tokens = [token for token in tokens if token not in russian_stopwords and token != ' ']\n",
    "    text = \" \".join(tokens)\n",
    "    sw_texts_list.append(text)\n",
    "\n",
    "df_res['text_sw'] = sw_texts_list"
   ]
  },
  {
   "cell_type": "code",
   "execution_count": null,
   "metadata": {
    "id": "iUv24sk69Pm1",
    "outputId": "d8f4301a-46aa-45f2-fbcb-31aed70f96cb"
   },
   "outputs": [
    {
     "data": {
      "text/plain": [
       "'названы самые раздражающие фотографии которые уехавшие отпуск люди выкладывают социальные сети сообщает the daily mail соответствующий антирейтинг составлен основе опроса посетителей онлайн сервиса туристов top com интернет пользователи назвали самым раздражающим видом снимков отдыха скриншоты прогноза погоды месте пребывания — процент опрошенных желают видеть такие фото своей новостной ленте соцсети особое недовольство вызывают селфи бесят процента респондентов замыкает тройку лидеров негатива вид фото hot dog legs многие любят фотографировать свои загорелые конечности фоне моря бассейна ноги сосиски соцсетях портят настроение процентам опрошенных самые ненавистные пользователей типы снимков друзей расположились рейтинге top com скриншоты iphone прогнозе погоды курорте отпускные селфи снимки ног фоне моря бассейна называемые hot dog legs фотографии прыжке оптические иллюзии например эйфелева башня ладони фото надписей песке фото тантамаресками снимки закатов фото неба пальм фото напитков еды представитель top com алекс баттл alex buttle отметил составители рейтинга собирались ставить банальные снимки укор интернет пользователям словам баттла компании осознают причиной которой многие пользователи проголосовали те иные виды фото раздражение зависть'"
      ]
     },
     "execution_count": 113,
     "metadata": {},
     "output_type": "execute_result"
    }
   ],
   "source": [
    "df_res['text_sw'][0]"
   ]
  },
  {
   "cell_type": "code",
   "execution_count": null,
   "metadata": {
    "id": "LmH6DtyB9Pm1"
   },
   "outputs": [],
   "source": [
    "df_res.to_csv('lenta_stemmed.csv')"
   ]
  },
  {
   "cell_type": "code",
   "execution_count": null,
   "metadata": {
    "id": "ZydCy9m_9Pm1",
    "outputId": "5ae20420-7069-47f3-8875-d988e035887d"
   },
   "outputs": [
    {
     "data": {
      "text/plain": [
       "'назва сам раздража фотограф котор уеха отпуск люд выкладыва социальн сет сообща the daily mail соответств антирейтинг составл основ опрос посетител онлайн сервис турист top com интернет пользовател назва сам раздража вид снимк отдых скриншот прогноз погод мест пребыван — процент опрошен жела видет так фот сво новостн лент соцсет особ недовольств вызыва селф бес процент респондент замыка тройк лидер негатив вид фот hot dog legs мног люб фотографирова сво загорел конечн фон мор бассейн ног сосиск соцсет порт настроен процент опрошен сам ненавистн пользовател тип снимк друз располож рейтинг top com скриншот iphone прогноз погод курорт отпускн селф снимк ног фон мор бассейн называ hot dog legs фотограф прыжк оптическ иллюз например эйфелев башн ладон фот надпис песк фот тантамареск снимк закат фот неб пальм фот напитк ед представител top com алекс баттл alex buttle отмет составител рейтинг собира став банальн снимк укор интернет пользовател слов баттл компан осозна причин котор мног пользовател проголосова те ин вид фот раздражен завист'"
      ]
     },
     "execution_count": 114,
     "metadata": {},
     "output_type": "execute_result"
    }
   ],
   "source": [
    "df_res['text_stem'][0]"
   ]
  },
  {
   "cell_type": "markdown",
   "metadata": {
    "id": "7brc9AiW9Pm1"
   },
   "source": [
    "## Лемматизация"
   ]
  },
  {
   "cell_type": "code",
   "execution_count": null,
   "metadata": {
    "id": "cSI0QFg29Pm1",
    "outputId": "13620a47-c7e3-409b-9700-33ae21fbe3d5"
   },
   "outputs": [
    {
     "data": {
      "application/vnd.jupyter.widget-view+json": {
       "model_id": "fb6c864a3e65465b803e612366a5bc57",
       "version_major": 2,
       "version_minor": 0
      },
      "text/plain": [
       "HBox(children=(FloatProgress(value=0.0, max=10000.0), HTML(value='')))"
      ]
     },
     "metadata": {},
     "output_type": "display_data"
    },
    {
     "name": "stdout",
     "output_type": "stream",
     "text": [
      "\n"
     ]
    }
   ],
   "source": [
    "lemm_texts_list = []\n",
    "for text in tqdm(df_res['text_sw']):\n",
    "    #print(text)\n",
    "    try:\n",
    "        text_lem = mystem.lemmatize(text)\n",
    "        tokens = [token for token in text_lem if token != ' ' and token not in russian_stopwords]\n",
    "        text = \" \".join(tokens)\n",
    "        lemm_texts_list.append(text)\n",
    "    except Exception as e:\n",
    "        print(e)\n",
    "    \n",
    "df_res['text_lemm'] = lemm_texts_list"
   ]
  },
  {
   "cell_type": "code",
   "execution_count": null,
   "metadata": {
    "id": "vbbEqfdS9Pm2"
   },
   "outputs": [],
   "source": [
    "def lemmatize_text(text):\n",
    "    text_lem = mystem.lemmatize(text)\n",
    "    tokens = [token for token in text_lem if token != ' ']\n",
    "    return \" \".join(tokens)"
   ]
  },
  {
   "cell_type": "code",
   "execution_count": null,
   "metadata": {
    "id": "GQj-pJDP9Pm2"
   },
   "outputs": [],
   "source": [
    "df_res.to_csv('lemm.csv')"
   ]
  },
  {
   "cell_type": "code",
   "execution_count": null,
   "metadata": {
    "id": "CH6hYll39Pm2"
   },
   "outputs": [],
   "source": [
    "df_res = pd.read_csv('lemm.csv', encoding = 'utf-8')"
   ]
  },
  {
   "cell_type": "code",
   "execution_count": null,
   "metadata": {
    "id": "LKbg3zvc9Pm2",
    "outputId": "cbe46da2-2425-4591-c727-05afa0093196"
   },
   "outputs": [
    {
     "data": {
      "text/html": [
       "<div>\n",
       "<style scoped>\n",
       "    .dataframe tbody tr th:only-of-type {\n",
       "        vertical-align: middle;\n",
       "    }\n",
       "\n",
       "    .dataframe tbody tr th {\n",
       "        vertical-align: top;\n",
       "    }\n",
       "\n",
       "    .dataframe thead th {\n",
       "        text-align: right;\n",
       "    }\n",
       "</style>\n",
       "<table border=\"1\" class=\"dataframe\">\n",
       "  <thead>\n",
       "    <tr style=\"text-align: right;\">\n",
       "      <th></th>\n",
       "      <th>Unnamed: 0</th>\n",
       "      <th>url</th>\n",
       "      <th>title</th>\n",
       "      <th>text</th>\n",
       "      <th>topic</th>\n",
       "      <th>tags</th>\n",
       "      <th>date</th>\n",
       "      <th>text_prep</th>\n",
       "      <th>text_sw</th>\n",
       "      <th>text_lemm</th>\n",
       "    </tr>\n",
       "  </thead>\n",
       "  <tbody>\n",
       "    <tr>\n",
       "      <th>0</th>\n",
       "      <td>0</td>\n",
       "      <td>https://lenta.ru/news/2014/06/26/annoyingphotos/</td>\n",
       "      <td>Составлен рейтинг самых раздражающих отпускных...</td>\n",
       "      <td>Названы самые раздражающие фотографии, которые...</td>\n",
       "      <td>Путешествия</td>\n",
       "      <td>Мнения</td>\n",
       "      <td>2014/06/26</td>\n",
       "      <td>названы самые раздражающие фотографии которые ...</td>\n",
       "      <td>названы самые раздражающие фотографии которые ...</td>\n",
       "      <td>называть самый раздражающий фотография который...</td>\n",
       "    </tr>\n",
       "    <tr>\n",
       "      <th>1</th>\n",
       "      <td>1</td>\n",
       "      <td>https://lenta.ru/news/2015/01/09/flight/</td>\n",
       "      <td>В Европе появится 10-минутный авиарейс</td>\n",
       "      <td>Австрийская авиакомпания FlyNiki открывает 10-...</td>\n",
       "      <td>Путешествия</td>\n",
       "      <td>Мир</td>\n",
       "      <td>2015/01/09</td>\n",
       "      <td>австрийская авиакомпания flyniki открывает мин...</td>\n",
       "      <td>австрийская авиакомпания flyniki открывает мин...</td>\n",
       "      <td>австрийский авиакомпания flyniki открывать мин...</td>\n",
       "    </tr>\n",
       "    <tr>\n",
       "      <th>2</th>\n",
       "      <td>2</td>\n",
       "      <td>https://lenta.ru/news/2015/01/28/tsipras/</td>\n",
       "      <td>Греческий премьер призвал избавиться от отелей...</td>\n",
       "      <td>Премьер-министр Греции Алексис Ципрас призвал ...</td>\n",
       "      <td>Путешествия</td>\n",
       "      <td>Мир</td>\n",
       "      <td>2015/01/28</td>\n",
       "      <td>премьер министр греции алексис ципрас призвал ...</td>\n",
       "      <td>премьер министр греции алексис ципрас призвал ...</td>\n",
       "      <td>премьер министр греция алексис ципрас призыват...</td>\n",
       "    </tr>\n",
       "    <tr>\n",
       "      <th>3</th>\n",
       "      <td>3</td>\n",
       "      <td>https://lenta.ru/news/2015/02/03/standfly/</td>\n",
       "      <td>Китайская авиакомпания собралась ввести в само...</td>\n",
       "      <td>Китайский лоукостер Spring Airlines собрался п...</td>\n",
       "      <td>Путешествия</td>\n",
       "      <td>Мир</td>\n",
       "      <td>2015/02/03</td>\n",
       "      <td>китайский лоукостер spring airlines собрался п...</td>\n",
       "      <td>китайский лоукостер spring airlines собрался п...</td>\n",
       "      <td>китайский лоукостер spring airlines собираться...</td>\n",
       "    </tr>\n",
       "    <tr>\n",
       "      <th>4</th>\n",
       "      <td>4</td>\n",
       "      <td>https://lenta.ru/news/2015/02/12/tripforvalent...</td>\n",
       "      <td>Россияне отправятся отмечать День святого Вале...</td>\n",
       "      <td>Большинство российских путешественников отметя...</td>\n",
       "      <td>Путешествия</td>\n",
       "      <td>Россия</td>\n",
       "      <td>2015/02/12</td>\n",
       "      <td>большинство российских путешественников отметя...</td>\n",
       "      <td>большинство российских путешественников отметя...</td>\n",
       "      <td>большинство российский путешественник отмечать...</td>\n",
       "    </tr>\n",
       "  </tbody>\n",
       "</table>\n",
       "</div>"
      ],
      "text/plain": [
       "   Unnamed: 0                                                url  \\\n",
       "0           0   https://lenta.ru/news/2014/06/26/annoyingphotos/   \n",
       "1           1           https://lenta.ru/news/2015/01/09/flight/   \n",
       "2           2          https://lenta.ru/news/2015/01/28/tsipras/   \n",
       "3           3         https://lenta.ru/news/2015/02/03/standfly/   \n",
       "4           4  https://lenta.ru/news/2015/02/12/tripforvalent...   \n",
       "\n",
       "                                               title  \\\n",
       "0  Составлен рейтинг самых раздражающих отпускных...   \n",
       "1            В Европе появится 10-минутный авиарейс    \n",
       "2  Греческий премьер призвал избавиться от отелей...   \n",
       "3  Китайская авиакомпания собралась ввести в само...   \n",
       "4  Россияне отправятся отмечать День святого Вале...   \n",
       "\n",
       "                                                text        topic    tags  \\\n",
       "0  Названы самые раздражающие фотографии, которые...  Путешествия  Мнения   \n",
       "1  Австрийская авиакомпания FlyNiki открывает 10-...  Путешествия     Мир   \n",
       "2  Премьер-министр Греции Алексис Ципрас призвал ...  Путешествия     Мир   \n",
       "3  Китайский лоукостер Spring Airlines собрался п...  Путешествия     Мир   \n",
       "4  Большинство российских путешественников отметя...  Путешествия  Россия   \n",
       "\n",
       "         date                                          text_prep  \\\n",
       "0  2014/06/26  названы самые раздражающие фотографии которые ...   \n",
       "1  2015/01/09  австрийская авиакомпания flyniki открывает мин...   \n",
       "2  2015/01/28  премьер министр греции алексис ципрас призвал ...   \n",
       "3  2015/02/03  китайский лоукостер spring airlines собрался п...   \n",
       "4  2015/02/12  большинство российских путешественников отметя...   \n",
       "\n",
       "                                             text_sw  \\\n",
       "0  названы самые раздражающие фотографии которые ...   \n",
       "1  австрийская авиакомпания flyniki открывает мин...   \n",
       "2  премьер министр греции алексис ципрас призвал ...   \n",
       "3  китайский лоукостер spring airlines собрался п...   \n",
       "4  большинство российских путешественников отметя...   \n",
       "\n",
       "                                           text_lemm  \n",
       "0  называть самый раздражающий фотография который...  \n",
       "1  австрийский авиакомпания flyniki открывать мин...  \n",
       "2  премьер министр греция алексис ципрас призыват...  \n",
       "3  китайский лоукостер spring airlines собираться...  \n",
       "4  большинство российский путешественник отмечать...  "
      ]
     },
     "execution_count": 136,
     "metadata": {},
     "output_type": "execute_result"
    }
   ],
   "source": [
    "df_res.head()"
   ]
  },
  {
   "cell_type": "code",
   "execution_count": null,
   "metadata": {
    "id": "5QTjm7_J9Pm2",
    "outputId": "ea5b3a5f-1177-44ab-cedf-ed40b1910dcc"
   },
   "outputs": [
    {
     "data": {
      "text/plain": [
       "'называть самый раздражающий фотография который уезжать отпуск человек выкладывать социальный сеть сообщать the daily mail соответствующий антирейтинг составлять основа опрос посетитель онлайн сервис турист top com интернет пользователь называть самый раздражающий вид снимок отдых скриншот прогноз погода место пребывание  —  процент опрашивать желать видеть фото свой новостной лента соцсеть особый недовольство вызывать селфи бесить процент респондент замыкать тройка лидер негатив вид фото hot dog legs многие любить фотографировать свой загорелый конечность фон море бассейн нога сосиска соцсеть портить настроение процент опрашивать самый ненавистный пользователь тип снимок друг располагаться рейтинг top com скриншот iphone прогноз погода курорт отпускной селфи снимок нога фон море бассейн называть hot dog legs фотография прыжок оптический иллюзия например эйфелев башня ладонь фото надпись песок фото тантамаресок снимок закат фото небо пальма фото напиток еда представитель top com алекс баттл alex buttle отмечать составитель рейтинг собираться ставить банальный снимок укор интернет пользователь слово баттла компания осознавать причина который многий пользователь проголосовать иной вид фото раздражение зависть \\n'"
      ]
     },
     "execution_count": 121,
     "metadata": {},
     "output_type": "execute_result"
    }
   ],
   "source": [
    "df_res['text_lemm'][0]"
   ]
  },
  {
   "cell_type": "code",
   "execution_count": null,
   "metadata": {
    "id": "gZE4ft4e9Pm2"
   },
   "outputs": [],
   "source": [
    "#X = df_res['text_lemm']\n",
    "X = df_res['text_sw']\n",
    "y = df_res['topic']"
   ]
  },
  {
   "cell_type": "code",
   "execution_count": null,
   "metadata": {
    "id": "gTuS47-y9Pm2",
    "outputId": "c7ae7301-53ac-4474-92a3-89dafccd2db1"
   },
   "outputs": [
    {
     "data": {
      "text/plain": [
       "str"
      ]
     },
     "execution_count": 152,
     "metadata": {},
     "output_type": "execute_result"
    }
   ],
   "source": [
    "type(df_res['text_lemm'][0])"
   ]
  },
  {
   "cell_type": "code",
   "execution_count": null,
   "metadata": {
    "id": "j4-h1ECq9Pm3"
   },
   "outputs": [],
   "source": [
    "from sklearn.model_selection import train_test_split\n",
    "X_train, X_test, y_train, y_test = train_test_split(X, y, test_size=0.3, random_state = 42)"
   ]
  },
  {
   "cell_type": "code",
   "execution_count": null,
   "metadata": {
    "id": "OgEyphaL9Pm3",
    "outputId": "c6340489-4c83-42ef-be81-ee84cf4df131"
   },
   "outputs": [
    {
     "data": {
      "text/plain": [
       "array(['Путешествия', 'Ценности', 'Мир', 'Наука и техника', 'Экономика'],\n",
       "      dtype=object)"
      ]
     },
     "execution_count": 156,
     "metadata": {},
     "output_type": "execute_result"
    }
   ],
   "source": [
    "my_tags = df_res['topic'].unique()\n",
    "my_tags"
   ]
  },
  {
   "cell_type": "code",
   "execution_count": null,
   "metadata": {
    "id": "JQlA6Nz_9Pm3",
    "outputId": "0a30af88-461f-46d2-e46d-807e2cc2e1c3"
   },
   "outputs": [
    {
     "data": {
      "text/plain": [
       "str"
      ]
     },
     "execution_count": 151,
     "metadata": {},
     "output_type": "execute_result"
    }
   ],
   "source": [
    "type(X_train[1])\n",
    "df['Review'].values.astype('U')"
   ]
  },
  {
   "cell_type": "markdown",
   "metadata": {
    "id": "_F5Ve7Im9Pm3"
   },
   "source": [
    "## Naive Bayes Classifier"
   ]
  },
  {
   "cell_type": "code",
   "execution_count": null,
   "metadata": {
    "id": "Kz2FX_0z9Pm3"
   },
   "outputs": [],
   "source": [
    "from sklearn.naive_bayes import MultinomialNB\n",
    "from sklearn.pipeline import Pipeline\n",
    "from sklearn.feature_extraction.text import TfidfTransformer\n",
    "from sklearn.feature_extraction.text import CountVectorizer"
   ]
  },
  {
   "cell_type": "code",
   "execution_count": null,
   "metadata": {
    "id": "SAQ72H-89Pm3"
   },
   "outputs": [],
   "source": [
    "nb = Pipeline([('vect', CountVectorizer()),\n",
    "               ('tfidf', TfidfTransformer()),\n",
    "               ('clf', MultinomialNB()),\n",
    "              ])"
   ]
  },
  {
   "cell_type": "code",
   "execution_count": null,
   "metadata": {
    "id": "_XyoN-509Pm3",
    "outputId": "14aa65b6-cb01-4e0f-bba5-626411da7a19"
   },
   "outputs": [
    {
     "name": "stdout",
     "output_type": "stream",
     "text": [
      "Wall time: 1.74 s\n"
     ]
    },
    {
     "data": {
      "text/plain": [
       "Pipeline(steps=[('vect', CountVectorizer()), ('tfidf', TfidfTransformer()),\n",
       "                ('clf', MultinomialNB())])"
      ]
     },
     "execution_count": 159,
     "metadata": {},
     "output_type": "execute_result"
    }
   ],
   "source": [
    "%%time\n",
    "nb.fit(X_train, y_train)"
   ]
  },
  {
   "cell_type": "code",
   "execution_count": null,
   "metadata": {
    "id": "HMa9bvU29Pm4",
    "outputId": "a29f7fad-39b8-4e87-edf7-23fcac7f4636"
   },
   "outputs": [
    {
     "name": "stdout",
     "output_type": "stream",
     "text": [
      "Wall time: 617 ms\n"
     ]
    }
   ],
   "source": [
    "%%time\n",
    "from sklearn.metrics import classification_report\n",
    "y_pred = nb.predict(X_test)"
   ]
  },
  {
   "cell_type": "code",
   "execution_count": null,
   "metadata": {
    "id": "QJgz-L239Pm4",
    "outputId": "72e2c9f6-61d6-402e-84c9-318c02287eb9"
   },
   "outputs": [
    {
     "data": {
      "text/plain": [
       "'Путешествия'"
      ]
     },
     "execution_count": 163,
     "metadata": {},
     "output_type": "execute_result"
    }
   ],
   "source": [
    "y_pred[0]"
   ]
  },
  {
   "cell_type": "code",
   "execution_count": null,
   "metadata": {
    "id": "FZIkbJp59Pm4",
    "outputId": "6405e9b4-8e6c-41e6-c959-74a90f3538e6"
   },
   "outputs": [
    {
     "name": "stdout",
     "output_type": "stream",
     "text": [
      "названы самые раздражающие фотографии которые уехавшие отпуск люди выкладывают социальные сети сообщает the daily mail соответствующий антирейтинг составлен основе опроса посетителей онлайн сервиса туристов top com интернет пользователи назвали самым раздражающим видом снимков отдыха скриншоты прогноза погоды месте пребывания — процент опрошенных желают видеть такие фото своей новостной ленте соцсети особое недовольство вызывают селфи бесят процента респондентов замыкает тройку лидеров негатива вид фото hot dog legs многие любят фотографировать свои загорелые конечности фоне моря бассейна ноги сосиски соцсетях портят настроение процентам опрошенных самые ненавистные пользователей типы снимков друзей расположились рейтинге top com скриншоты iphone прогнозе погоды курорте отпускные селфи снимки ног фоне моря бассейна называемые hot dog legs фотографии прыжке оптические иллюзии например эйфелева башня ладони фото надписей песке фото тантамаресками снимки закатов фото неба пальм фото напитков еды представитель top com алекс баттл alex buttle отметил составители рейтинга собирались ставить банальные снимки укор интернет пользователям словам баттла компании осознают причиной которой многие пользователи проголосовали те иные виды фото раздражение зависть Путешествия Путешествия\n"
     ]
    }
   ],
   "source": [
    "print(X_test[0], y_test[0], y_pred[0])"
   ]
  },
  {
   "cell_type": "code",
   "execution_count": null,
   "metadata": {
    "id": "2DCSWZp69Pm4",
    "outputId": "b8b7a0a9-a77c-4a2d-d0a2-d2cd941e7d1f"
   },
   "outputs": [
    {
     "name": "stdout",
     "output_type": "stream",
     "text": [
      "accuracy 0.922\n",
      "                 precision    recall  f1-score   support\n",
      "\n",
      "    Путешествия       0.92      0.81      0.86       610\n",
      "       Ценности       0.90      0.91      0.91       584\n",
      "            Мир       0.92      0.98      0.95       626\n",
      "Наука и техника       0.96      0.96      0.96       591\n",
      "      Экономика       0.91      0.96      0.93       589\n",
      "\n",
      "       accuracy                           0.92      3000\n",
      "      macro avg       0.92      0.92      0.92      3000\n",
      "   weighted avg       0.92      0.92      0.92      3000\n",
      "\n"
     ]
    }
   ],
   "source": [
    "from sklearn.metrics import accuracy_score\n",
    "\n",
    "print('accuracy %s' % accuracy_score(y_pred, y_test))\n",
    "print(classification_report(y_test, y_pred, target_names=my_tags))"
   ]
  },
  {
   "cell_type": "markdown",
   "metadata": {
    "id": "sflqFXec9Pm4"
   },
   "source": [
    "## Linear Support Vector Machine"
   ]
  },
  {
   "cell_type": "code",
   "execution_count": null,
   "metadata": {
    "id": "YvX4LPA19Pm5"
   },
   "outputs": [],
   "source": [
    "from sklearn.linear_model import SGDClassifier\n",
    "\n",
    "sgd = Pipeline([('vect', CountVectorizer()),\n",
    "                ('tfidf', TfidfTransformer()),\n",
    "                ('clf', SGDClassifier(loss='hinge', penalty='l2',alpha=1e-3, random_state=42, max_iter=5, tol=None)),\n",
    "               ])"
   ]
  },
  {
   "cell_type": "code",
   "execution_count": null,
   "metadata": {
    "id": "XmIq1Ild9Pm5",
    "outputId": "e2e784bd-f33a-4afc-f816-11dd052a8e48"
   },
   "outputs": [
    {
     "name": "stdout",
     "output_type": "stream",
     "text": [
      "Wall time: 1.9 s\n"
     ]
    },
    {
     "data": {
      "text/plain": [
       "Pipeline(steps=[('vect', CountVectorizer()), ('tfidf', TfidfTransformer()),\n",
       "                ('clf',\n",
       "                 SGDClassifier(alpha=0.001, max_iter=5, random_state=42,\n",
       "                               tol=None))])"
      ]
     },
     "execution_count": 168,
     "metadata": {},
     "output_type": "execute_result"
    }
   ],
   "source": [
    "%%time\n",
    "sgd.fit(X_train, y_train)"
   ]
  },
  {
   "cell_type": "code",
   "execution_count": null,
   "metadata": {
    "id": "2zD5t2Z49Pm5",
    "outputId": "f8121900-4a40-41c4-f9e3-fd0bf17e8163"
   },
   "outputs": [
    {
     "name": "stdout",
     "output_type": "stream",
     "text": [
      "Wall time: 539 ms\n"
     ]
    }
   ],
   "source": [
    "%%time\n",
    "y_pred = sgd.predict(X_test)"
   ]
  },
  {
   "cell_type": "code",
   "execution_count": null,
   "metadata": {
    "id": "X33nqXRT9Pm5",
    "outputId": "0b00cf47-406a-4980-dbd8-0b56660cc46d"
   },
   "outputs": [
    {
     "name": "stdout",
     "output_type": "stream",
     "text": [
      "accuracy 0.92\n",
      "                 precision    recall  f1-score   support\n",
      "\n",
      "    Путешествия       0.92      0.81      0.86       610\n",
      "       Ценности       0.90      0.92      0.91       584\n",
      "            Мир       0.94      0.96      0.95       626\n",
      "Наука и техника       0.93      0.97      0.95       591\n",
      "      Экономика       0.91      0.94      0.92       589\n",
      "\n",
      "       accuracy                           0.92      3000\n",
      "      macro avg       0.92      0.92      0.92      3000\n",
      "   weighted avg       0.92      0.92      0.92      3000\n",
      "\n"
     ]
    }
   ],
   "source": [
    "print('accuracy %s' % accuracy_score(y_pred, y_test))\n",
    "print(classification_report(y_test, y_pred,target_names=my_tags))"
   ]
  },
  {
   "cell_type": "markdown",
   "metadata": {
    "id": "eURrECRq9Pm5"
   },
   "source": [
    "### Logistic Regression"
   ]
  },
  {
   "cell_type": "code",
   "execution_count": null,
   "metadata": {
    "id": "d_npCQ4U9Pm5"
   },
   "outputs": [],
   "source": [
    "from sklearn.linear_model import LogisticRegression\n",
    "\n",
    "logreg = Pipeline([('vect', CountVectorizer()),\n",
    "                ('tfidf', TfidfTransformer()),\n",
    "                ('clf', LogisticRegression(n_jobs=1, C=1e5)),\n",
    "               ])"
   ]
  },
  {
   "cell_type": "code",
   "execution_count": null,
   "metadata": {
    "id": "m7rj8NDp9Pm6",
    "outputId": "02e5cfda-f7c3-49ce-bf04-e639de852542"
   },
   "outputs": [
    {
     "name": "stdout",
     "output_type": "stream",
     "text": [
      "Wall time: 13 s\n"
     ]
    },
    {
     "name": "stderr",
     "output_type": "stream",
     "text": [
      "C:\\ProgramData\\Anaconda3\\lib\\site-packages\\sklearn\\linear_model\\_logistic.py:762: ConvergenceWarning: lbfgs failed to converge (status=1):\n",
      "STOP: TOTAL NO. of ITERATIONS REACHED LIMIT.\n",
      "\n",
      "Increase the number of iterations (max_iter) or scale the data as shown in:\n",
      "    https://scikit-learn.org/stable/modules/preprocessing.html\n",
      "Please also refer to the documentation for alternative solver options:\n",
      "    https://scikit-learn.org/stable/modules/linear_model.html#logistic-regression\n",
      "  n_iter_i = _check_optimize_result(\n"
     ]
    },
    {
     "data": {
      "text/plain": [
       "Pipeline(steps=[('vect', CountVectorizer()), ('tfidf', TfidfTransformer()),\n",
       "                ('clf', LogisticRegression(C=100000.0, n_jobs=1))])"
      ]
     },
     "execution_count": 172,
     "metadata": {},
     "output_type": "execute_result"
    }
   ],
   "source": [
    "%%time\n",
    "logreg.fit(X_train, y_train)"
   ]
  },
  {
   "cell_type": "code",
   "execution_count": null,
   "metadata": {
    "id": "_DNN0OnX9Pm6",
    "outputId": "70ddebd7-bf70-4ff6-bf79-46c52748c65d"
   },
   "outputs": [
    {
     "name": "stdout",
     "output_type": "stream",
     "text": [
      "Wall time: 591 ms\n"
     ]
    }
   ],
   "source": [
    "%%time\n",
    "y_pred = logreg.predict(X_test)"
   ]
  },
  {
   "cell_type": "code",
   "execution_count": null,
   "metadata": {
    "id": "mr6iokks9Pm6",
    "outputId": "ba0cc6d5-ee0e-4bb1-e9b4-cc57d9c02653"
   },
   "outputs": [
    {
     "name": "stdout",
     "output_type": "stream",
     "text": [
      "accuracy 0.9423333333333334\n",
      "                 precision    recall  f1-score   support\n",
      "\n",
      "    Путешествия       0.92      0.88      0.90       610\n",
      "       Ценности       0.91      0.94      0.92       584\n",
      "            Мир       0.97      0.98      0.97       626\n",
      "Наука и техника       0.97      0.98      0.98       591\n",
      "      Экономика       0.94      0.94      0.94       589\n",
      "\n",
      "       accuracy                           0.94      3000\n",
      "      macro avg       0.94      0.94      0.94      3000\n",
      "   weighted avg       0.94      0.94      0.94      3000\n",
      "\n"
     ]
    }
   ],
   "source": [
    "print('accuracy %s' % accuracy_score(y_pred, y_test))\n",
    "print(classification_report(y_test, y_pred,target_names=my_tags))"
   ]
  },
  {
   "cell_type": "markdown",
   "metadata": {
    "id": "DvrLbW5g9Pm6"
   },
   "source": [
    "### Проверка на примерах новостей с сайта"
   ]
  },
  {
   "cell_type": "code",
   "execution_count": null,
   "metadata": {
    "id": "fBtRxE919Pm6"
   },
   "outputs": [],
   "source": [
    "econ_text = '''\n",
    "Доллар США считается символом надежности, безопасности и экономического процветания. \n",
    "Он занимает неоспоримое доминирующее положение в международной финансовой системе с середины XX века и производит \n",
    "впечатление непобедимого титана. Однако эра господства доллара как основной мировой резервной валюты медленно \n",
    "подходит к концу. Крупнейшие банки предрекают ему резкий спад уже в следующем году, а известный экономист \n",
    "Стивен Роуч уверен, что американская валюта может обесцениться на треть. \n",
    "Причинами обвала станут сокращение сбережений населения, рост государственного долга США и усиление Китая. \n",
    "Закат долларового диктата — в материале «Ленты.ру».\n",
    "Непомерные привилегии\n",
    "\n",
    "Успех американской экономики в XX веке был во многом обусловлен доминирующей ролью доллара. В свою очередь достижение этой роли стало результатом политического и военного превосходства, которое США приобрели после Первой мировой войны. До сих пор позиция доллара в мире финансов представляет собой главную основу процветания США. Однако в 2002 году наметилась долгосрочная тенденция к ослаблению американской валюты, которая наблюдается и по сей день.\n",
    "\n",
    "Действительно, последнее время доллар чувствует себя не очень хорошо. В частности, июль оказался очень сложным месяцем для американской валюты, которая обновила многомесячные, а в некоторых случаях и многолетние минимумы. Всего за месяц доллар подешевел на шесть процентов против фунта, на пять — по отношению к евро, на четыре — против швейцарского франка и австралийского доллара. Вдобавок валютные аналитики вполне допускают, что июль может оказаться для доллара худшим месяцем с точки зрения месячной динамики за последние десять лет.\n",
    "\n",
    "'''"
   ]
  },
  {
   "cell_type": "code",
   "execution_count": null,
   "metadata": {
    "id": "1FZebh4J9Pm7"
   },
   "outputs": [],
   "source": [
    "econ_text = remove_multiple_spaces(remove_numbers(remove_punctuation(econ_text.lower())))\n",
    "econ_text = remove_stop_words(econ_text)"
   ]
  },
  {
   "cell_type": "code",
   "execution_count": null,
   "metadata": {
    "id": "wNeDo-r19Pm7",
    "outputId": "8307bea7-f527-400c-a176-ceb02fe60fa1"
   },
   "outputs": [
    {
     "name": "stdout",
     "output_type": "stream",
     "text": [
      "Wall time: 1.2 s\n"
     ]
    }
   ],
   "source": [
    "%%time\n",
    "econ_text = lemmatize_text(econ_text)"
   ]
  },
  {
   "cell_type": "code",
   "execution_count": null,
   "metadata": {
    "id": "71vu8bV09Pm7",
    "outputId": "14f6e1a8-259f-46d9-b386-4c935b741268"
   },
   "outputs": [
    {
     "data": {
      "text/plain": [
       "'доллар сша считаться символ надежность безопасность экономический процветание занимать неоспоримый доминировать положение международный финансовый система середина xx век производить впечатление непобедимый титан однако эра господство доллар основной мировой резервный валюта медленно подходить конец крупный банк предрекать резкий спад следующий год известный экономист стивен роуч уверенный американский валюта обесцениваться треть причина обвал становиться сокращение сбережение население рост государственный долг сша усиление китай закат долларовый диктат  —  материал лента ру непомерный привилегия успех американский экономика xx век многое обусловливать доминирующий роль доллар очередь достижение роль становиться результат политический военный превосходство который сша приобретать первый мировой война сей пора позиция доллар мир финансы представлять главный основа процветание сша однако год намечаться долгосрочный тенденция ослабление американский валюта который наблюдаться сей день действительно последний время доллар чувствовать очень частность июль оказываться очень сложный месяц американский валюта который обновлять многомесячный некоторый случай многолетний минимум месяц доллар подешеветь шесть процент против фунт пять  —  отношение евро четыре  —  против швейцарский франк австралийский доллар вдобавок валютный аналитик вполне допускать июль оказываться доллар плохой месяц точка зрение месячный динамика последний десять год \\n'"
      ]
     },
     "execution_count": 61,
     "metadata": {},
     "output_type": "execute_result"
    }
   ],
   "source": [
    "econ_text"
   ]
  },
  {
   "cell_type": "code",
   "execution_count": null,
   "metadata": {
    "id": "fFijGAOS9Pm7",
    "outputId": "9df721e6-f9a7-415a-d0e2-4472ae9b5fa9"
   },
   "outputs": [
    {
     "data": {
      "text/plain": [
       "array(['Экономика'], dtype=object)"
      ]
     },
     "execution_count": 178,
     "metadata": {},
     "output_type": "execute_result"
    }
   ],
   "source": [
    "ect_pred = logreg.predict([econ_text])\n",
    "ect_pred"
   ]
  },
  {
   "cell_type": "code",
   "execution_count": null,
   "metadata": {
    "id": "Y4KzwilN9Pm7"
   },
   "outputs": [],
   "source": [
    "tech_text = '''\n",
    "Ученые Университета Аризоны в США открыли неизвестный принцип эволюции, согласно которому естественный отбор не может благоприятствовать сразу нескольким полезным мутациям, повышающим приспособленность организма к окружающей среде. Вместо этого он фокусируется только на том, что достаточно для выживания существа, и игнорирует другие возможности для улучшения. Об этом сообщается в статье в журнале Proceedings of the National Academy of Sciences.\n",
    "Исследователи спровоцировали несколько мутаций, которые «ломали» механизм трансляции у шести различных штаммов бактерии кишечной палочки Escherichia coli. Трансляция — это процесс, при котором заложенная в генах информация о нуклеотидной последовательности белков переносится к рибосомам и участвует в белковом синтезе. Известно, что более чем за 3,5 миллиарда лет эволюции механизм трансляции не претерпел существенных изменений.\n",
    "Ряд нефатальных мутаций, затрагивающих функционирование трансляционного процесса, должен с течением времени быть исправлен эволюцией. Для этого ученые заставили штаммы бактерий с различными изменениями конкурировать друг с другом, благодаря чему осуществлялся естественный отбор. Со временем внутри популяции накапливались полезные мутации, которые могли быть сохранены и использованы для улучшения трансляции.'''"
   ]
  },
  {
   "cell_type": "code",
   "execution_count": null,
   "metadata": {
    "id": "JRWdzR4Y9Pm7"
   },
   "outputs": [],
   "source": [
    "tech_text = remove_multiple_spaces(remove_numbers(remove_punctuation(tech_text.lower())))\n",
    "tech_text = remove_stop_words(tech_text)\n",
    "#tech_text = lemmatize_text(tech_text)"
   ]
  },
  {
   "cell_type": "code",
   "execution_count": null,
   "metadata": {
    "id": "U0iLwOqH9Pm7",
    "outputId": "47cb53f2-a51b-4c62-bf03-6c4b6249f79f"
   },
   "outputs": [
    {
     "data": {
      "text/plain": [
       "array(['Наука и техника'], dtype=object)"
      ]
     },
     "execution_count": 181,
     "metadata": {},
     "output_type": "execute_result"
    }
   ],
   "source": [
    "tech_pred = logreg.predict([tech_text])\n",
    "tech_pred"
   ]
  },
  {
   "cell_type": "code",
   "execution_count": null,
   "metadata": {
    "id": "WrrtwYJh9Pm8"
   },
   "outputs": [],
   "source": [
    "travel_text = '''\n",
    "Российские туристы с 1 августа могут беспрепятственно въезжать в Абхазию, а граждане этой страны — в Россию, соответствующее распоряжение об открытии границ между странами подписал премьер-министр России Михаил Мишустин.\n",
    "Границу уже свободно пересекают пешеходы и транспорт, все введенные ранее на фоне пандемии коронавируса ограничения сняты.\n",
    "При этом о своем намерении российские власти сообщили еще в пятницу, 31 июля — решение было принято по итогам заседания оперативного штаба по борьбе с распространением инфекции на основании заключений Роспотребнадзора и Минздрава России по оценке санитарно-эпидемиологической обстановки в стране, а также определения готовности объектов абхазской инфраструктуры к приему туристов.\n",
    "'''"
   ]
  },
  {
   "cell_type": "code",
   "execution_count": null,
   "metadata": {
    "id": "lgsxogus9Pm8"
   },
   "outputs": [],
   "source": [
    "travel_text = remove_multiple_spaces(remove_numbers(remove_punctuation(travel_text.lower())))\n",
    "travel_text = remove_stop_words(travel_text)\n",
    "#travel_text = lemmatize_text(travel_text)"
   ]
  },
  {
   "cell_type": "code",
   "execution_count": null,
   "metadata": {
    "id": "STINZDi99Pm8",
    "outputId": "833700da-ae25-4c47-d926-e727a9e3b554"
   },
   "outputs": [
    {
     "data": {
      "text/plain": [
       "array(['Путешествия'], dtype=object)"
      ]
     },
     "execution_count": 184,
     "metadata": {},
     "output_type": "execute_result"
    }
   ],
   "source": [
    "pred = logreg.predict([travel_text])\n",
    "pred"
   ]
  }
 ],
 "metadata": {
  "colab": {
   "name": "multiclass.ipynb",
   "provenance": []
  },
  "kernelspec": {
   "display_name": "Python 3 (ipykernel)",
   "language": "python",
   "name": "python3"
  },
  "language_info": {
   "codemirror_mode": {
    "name": "ipython",
    "version": 3
   },
   "file_extension": ".py",
   "mimetype": "text/x-python",
   "name": "python",
   "nbconvert_exporter": "python",
   "pygments_lexer": "ipython3",
   "version": "3.7.9"
  }
 },
 "nbformat": 4,
 "nbformat_minor": 1
}
