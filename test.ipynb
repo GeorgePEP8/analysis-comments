{
 "cells": [
  {
   "cell_type": "code",
   "execution_count": 1,
   "metadata": {
    "id": "uZ0jPNV5z6VB"
   },
   "outputs": [],
   "source": [
    "import re\n",
    "import time\n",
    "from tqdm import tqdm\n",
    " \n",
    "import numpy as np\n",
    "import pandas as pd\n",
    " \n",
    "\n",
    "import matplotlib.pyplot as plt\n",
    "import plotly.graph_objects as go\n",
    "from plotly.subplots import make_subplots\n",
    "\n",
    "from selenium import webdriver\n",
    "\n",
    "import nltk\n",
    "from nltk.corpus import stopwords as nltk_stopwords\n",
    "from pymystem3 import Mystem\n",
    "from wordcloud import WordCloud\n",
    "\n",
    "from sklearn.feature_extraction.text import CountVectorizer\n",
    "from sklearn.feature_extraction.text import TfidfVectorizer\n",
    "from sklearn.model_selection import cross_validate\n",
    "from sklearn.model_selection import train_test_split\n",
    "\n",
    "from sklearn.linear_model import LogisticRegression\n",
    "\n",
    "from sklearn.metrics import *"
   ]
  },
  {
   "cell_type": "code",
   "execution_count": 2,
   "metadata": {
    "colab": {
     "base_uri": "https://localhost:8080/"
    },
    "id": "6YEjCndI0oos",
    "outputId": "35913b74-1136-4321-8c3a-799e587045f9"
   },
   "outputs": [
    {
     "name": "stdout",
     "output_type": "stream",
     "text": [
      "чело темный тема отвечать ж печально уже лампа делать высокий новый пиццерия сложно все нормальный сделать также суть про психологический поддержка сказать ,\n",
      "блин классный ролик когда думать то сколько получать самоотверженный человек который вы работать становиться грустно ,\n",
      "нужный этот темный тема если отдельный пункт настройка то так некоторый сайт вкладка приложение она быть это безумно бить глаз долго минута не выдерживать ,\n",
      "жаль качество ингридиент смочь удерживать уровень тут понятно что дело чизкейк любимый у ,\n",
      "прекрасно удача ,\n",
      "додо любить пицца вкусный спасибо готовить я для ,\n",
      "круто ,\n",
      "офигенный ,\n",
      "поиск ответ начинаться исследование интервью отзыв поэтому работник додо это буквально автор герой ролик который посвящать текст спасибо даша весь смена пиццерия вышний волочек то готовить клиент вынос при сниматься ролик спасибо мухаммед москва то приезжать два смена помимо свой два смена ради эпизод чат психологический поддержка спасибо миша екатеринбург армен москва совместный работа адаптация приложение додо незрячий спасибо тренер роман петербург история то сложно угощать ребенок выезд спасибо дарья челябинск благодаря узнавать додстер удобный что протекать рюкзак ольга спасибо отзыв наклейка поменяться много должный портить маникюр кирилл петрозаводск наблюдательность лампа новый интерьер другой андрей волгоград настойчивость темный тема то возможно спасибо все не забывать полагать соус спасибо что принимать и напоминать соус забывать мы вы любить ,\n",
      "офигенный ,\n"
     ]
    }
   ],
   "source": [
    "text = ['поиск ответ начинаться исследование интервью отзыв поэтому работник додо это буквально автор герой ролик который посвящать текст спасибо даша весь смена пиццерия вышний волочек то готовить клиент вынос при сниматься ролик спасибо мухаммед москва то приезжать два смена помимо свой два смена ради эпизод чат психологический поддержка спасибо миша екатеринбург армен москва совместный работа адаптация приложение додо незрячий спасибо тренер роман петербург история то сложно угощать ребенок выезд спасибо дарья челябинск благодаря узнавать додстер удобный что протекать рюкзак ольга спасибо отзыв наклейка поменяться много должный портить маникюр кирилл петрозаводск наблюдательность лампа новый интерьер другой андрей волгоград настойчивость темный тема то возможно спасибо все не забывать полагать соус спасибо что принимать и напоминать соус забывать мы вы любить ,', 'годный однако ,', 'офигенный ,', 'прекрасный клип додо хороший пицца ,', 'отличный ролл ,', 'круто ,', 'прекрасно удача ,', 'чело темный тема отвечать ж печально уже лампа делать высокий новый пиццерия сложно все нормальный сделать также суть про психологический поддержка сказать ,', 'ороший ролик вкусный пицца ,', 'додо родной обожать любить весь сердце ,', 'блин классный ролик когда думать то сколько получать самоотверженный человек который вы работать становиться грустно ,', 'нужный этот темный тема если отдельный пункт настройка то так некоторый сайт вкладка приложение она быть это безумно бить глаз долго минута не выдерживать ,', 'додо спасибо пицца за лампа ,', 'додо любить пицца вкусный спасибо готовить я для ,', 'очень классный ролик задумываться будущее полнометражный картина ,', 'какой роль занимать жизнь человек намеренно коверкать русский язык просто необразованный какой роль занимать какой играть значение ,', 'обожать додо пицца какой город не приезжать первый дело искать ваш ресторан крутой ,', 'жаль качество ингридиент смочь удерживать уровень тут понятно что дело чизкейк любимый у ,', 'очень понравиться ролик смысл что не привереда ,', 'интересно какой я шанс выйгрывать учавствовать еще человек ,']\n",
    "for _ in range(10):\n",
    "\n",
    "    print(text[np.random.randint(len(text))])"
   ]
  },
  {
   "cell_type": "code",
   "execution_count": 3,
   "metadata": {
    "colab": {
     "base_uri": "https://localhost:8080/",
     "height": 677
    },
    "id": "Era-Vq9T0zHo",
    "outputId": "c4e20379-47ec-4c68-a0ad-2011a082b675"
   },
   "outputs": [
    {
     "data": {
      "text/html": [
       "<div>\n",
       "<style scoped>\n",
       "    .dataframe tbody tr th:only-of-type {\n",
       "        vertical-align: middle;\n",
       "    }\n",
       "\n",
       "    .dataframe tbody tr th {\n",
       "        vertical-align: top;\n",
       "    }\n",
       "\n",
       "    .dataframe thead th {\n",
       "        text-align: right;\n",
       "    }\n",
       "</style>\n",
       "<table border=\"1\" class=\"dataframe\">\n",
       "  <thead>\n",
       "    <tr style=\"text-align: right;\">\n",
       "      <th></th>\n",
       "      <th>comment</th>\n",
       "    </tr>\n",
       "  </thead>\n",
       "  <tbody>\n",
       "    <tr>\n",
       "      <th>0</th>\n",
       "      <td>поиск ответ начинаться исследование интервью о...</td>\n",
       "    </tr>\n",
       "    <tr>\n",
       "      <th>1</th>\n",
       "      <td>годный однако ,</td>\n",
       "    </tr>\n",
       "    <tr>\n",
       "      <th>2</th>\n",
       "      <td>офигенный ,</td>\n",
       "    </tr>\n",
       "    <tr>\n",
       "      <th>3</th>\n",
       "      <td>прекрасный клип додо хороший пицца ,</td>\n",
       "    </tr>\n",
       "    <tr>\n",
       "      <th>4</th>\n",
       "      <td>отличный ролл ,</td>\n",
       "    </tr>\n",
       "    <tr>\n",
       "      <th>5</th>\n",
       "      <td>круто ,</td>\n",
       "    </tr>\n",
       "    <tr>\n",
       "      <th>6</th>\n",
       "      <td>прекрасно удача ,</td>\n",
       "    </tr>\n",
       "    <tr>\n",
       "      <th>7</th>\n",
       "      <td>чело темный тема отвечать ж печально уже лампа...</td>\n",
       "    </tr>\n",
       "    <tr>\n",
       "      <th>8</th>\n",
       "      <td>ороший ролик вкусный пицца ,</td>\n",
       "    </tr>\n",
       "    <tr>\n",
       "      <th>9</th>\n",
       "      <td>додо родной обожать любить весь сердце ,</td>\n",
       "    </tr>\n",
       "    <tr>\n",
       "      <th>10</th>\n",
       "      <td>блин классный ролик когда думать то сколько по...</td>\n",
       "    </tr>\n",
       "    <tr>\n",
       "      <th>11</th>\n",
       "      <td>нужный этот темный тема если отдельный пункт н...</td>\n",
       "    </tr>\n",
       "    <tr>\n",
       "      <th>12</th>\n",
       "      <td>додо спасибо пицца за лампа ,</td>\n",
       "    </tr>\n",
       "    <tr>\n",
       "      <th>13</th>\n",
       "      <td>додо любить пицца вкусный спасибо готовить я д...</td>\n",
       "    </tr>\n",
       "    <tr>\n",
       "      <th>14</th>\n",
       "      <td>очень классный ролик задумываться будущее полн...</td>\n",
       "    </tr>\n",
       "    <tr>\n",
       "      <th>15</th>\n",
       "      <td>какой роль занимать жизнь человек намеренно ко...</td>\n",
       "    </tr>\n",
       "    <tr>\n",
       "      <th>16</th>\n",
       "      <td>обожать додо пицца какой город не приезжать пе...</td>\n",
       "    </tr>\n",
       "    <tr>\n",
       "      <th>17</th>\n",
       "      <td>жаль качество ингридиент смочь удерживать уров...</td>\n",
       "    </tr>\n",
       "    <tr>\n",
       "      <th>18</th>\n",
       "      <td>очень понравиться ролик смысл что не привереда ,</td>\n",
       "    </tr>\n",
       "    <tr>\n",
       "      <th>19</th>\n",
       "      <td>интересно какой я шанс выйгрывать учавствовать...</td>\n",
       "    </tr>\n",
       "  </tbody>\n",
       "</table>\n",
       "</div>"
      ],
      "text/plain": [
       "                                              comment\n",
       "0   поиск ответ начинаться исследование интервью о...\n",
       "1                                     годный однако ,\n",
       "2                                         офигенный ,\n",
       "3                прекрасный клип додо хороший пицца ,\n",
       "4                                     отличный ролл ,\n",
       "5                                             круто ,\n",
       "6                                   прекрасно удача ,\n",
       "7   чело темный тема отвечать ж печально уже лампа...\n",
       "8                        ороший ролик вкусный пицца ,\n",
       "9            додо родной обожать любить весь сердце ,\n",
       "10  блин классный ролик когда думать то сколько по...\n",
       "11  нужный этот темный тема если отдельный пункт н...\n",
       "12                      додо спасибо пицца за лампа ,\n",
       "13  додо любить пицца вкусный спасибо готовить я д...\n",
       "14  очень классный ролик задумываться будущее полн...\n",
       "15  какой роль занимать жизнь человек намеренно ко...\n",
       "16  обожать додо пицца какой город не приезжать пе...\n",
       "17  жаль качество ингридиент смочь удерживать уров...\n",
       "18   очень понравиться ролик смысл что не привереда ,\n",
       "19  интересно какой я шанс выйгрывать учавствовать..."
      ]
     },
     "execution_count": 3,
     "metadata": {},
     "output_type": "execute_result"
    }
   ],
   "source": [
    "data_df = pd.DataFrame({'comment':text})\n",
    "\n",
    "data_df.to_csv('\\\\data.csv')\n",
    "\n",
    "data_df"
   ]
  },
  {
   "cell_type": "code",
   "execution_count": 4,
   "metadata": {
    "id": "vXjuFBv0_n_H"
   },
   "outputs": [],
   "source": [
    "positive = pd.read_csv('russian_sentiment_tweet_automated_labeled/positive.csv',\n",
    "                       sep = ';',\n",
    "                       header= None\n",
    "                      )\n",
    "\n",
    "negative = pd.read_csv('russian_sentiment_tweet_automated_labeled/positive.csv',\n",
    "                       sep = ';',\n",
    "                       header= None\n",
    "                      )"
   ]
  },
  {
   "cell_type": "code",
   "execution_count": 5,
   "metadata": {
    "id": "czNbD8dUAjQf"
   },
   "outputs": [],
   "source": [
    "positive_text = pd.DataFrame(positive.iloc[:, 3])\n",
    "negative_text = pd.DataFrame(negative.iloc[:, 3])"
   ]
  },
  {
   "cell_type": "code",
   "execution_count": 6,
   "metadata": {
    "id": "BB4cPh7zAkZG"
   },
   "outputs": [],
   "source": [
    "positive_text['label'] = [1] * positive_text.shape[0]\n",
    "negative_text['label'] = [0] * negative_text.shape[0]"
   ]
  },
  {
   "cell_type": "code",
   "execution_count": 7,
   "metadata": {
    "id": "9pDafFUWAmnh"
   },
   "outputs": [],
   "source": [
    "labeled_tweets = pd.concat([positive_text, negative_text])"
   ]
  },
  {
   "cell_type": "code",
   "execution_count": 8,
   "metadata": {
    "id": "uOlGBzMrAoK1"
   },
   "outputs": [],
   "source": [
    "labeled_tweets.index = range(labeled_tweets.shape[0])"
   ]
  },
  {
   "cell_type": "code",
   "execution_count": 9,
   "metadata": {
    "colab": {
     "base_uri": "https://localhost:8080/",
     "height": 424
    },
    "id": "goH7ywCyAprI",
    "outputId": "15eee27c-b213-4705-b3f3-8ab82c56bf53"
   },
   "outputs": [
    {
     "data": {
      "text/html": [
       "<div>\n",
       "<style scoped>\n",
       "    .dataframe tbody tr th:only-of-type {\n",
       "        vertical-align: middle;\n",
       "    }\n",
       "\n",
       "    .dataframe tbody tr th {\n",
       "        vertical-align: top;\n",
       "    }\n",
       "\n",
       "    .dataframe thead th {\n",
       "        text-align: right;\n",
       "    }\n",
       "</style>\n",
       "<table border=\"1\" class=\"dataframe\">\n",
       "  <thead>\n",
       "    <tr style=\"text-align: right;\">\n",
       "      <th></th>\n",
       "      <th>text</th>\n",
       "      <th>label</th>\n",
       "    </tr>\n",
       "  </thead>\n",
       "  <tbody>\n",
       "    <tr>\n",
       "      <th>0</th>\n",
       "      <td>@first_timee хоть я и школота, но поверь, у на...</td>\n",
       "      <td>1</td>\n",
       "    </tr>\n",
       "    <tr>\n",
       "      <th>1</th>\n",
       "      <td>Да, все-таки он немного похож на него. Но мой ...</td>\n",
       "      <td>1</td>\n",
       "    </tr>\n",
       "    <tr>\n",
       "      <th>2</th>\n",
       "      <td>RT @KatiaCheh: Ну ты идиотка) я испугалась за ...</td>\n",
       "      <td>1</td>\n",
       "    </tr>\n",
       "    <tr>\n",
       "      <th>3</th>\n",
       "      <td>RT @digger2912: \"Кто то в углу сидит и погибае...</td>\n",
       "      <td>1</td>\n",
       "    </tr>\n",
       "    <tr>\n",
       "      <th>4</th>\n",
       "      <td>@irina_dyshkant Вот что значит страшилка :D\\nН...</td>\n",
       "      <td>1</td>\n",
       "    </tr>\n",
       "    <tr>\n",
       "      <th>...</th>\n",
       "      <td>...</td>\n",
       "      <td>...</td>\n",
       "    </tr>\n",
       "    <tr>\n",
       "      <th>229817</th>\n",
       "      <td>Спала в родительском доме, на своей кровати......</td>\n",
       "      <td>0</td>\n",
       "    </tr>\n",
       "    <tr>\n",
       "      <th>229818</th>\n",
       "      <td>RT @jebesilofyt: Эх... Мы немного решили сокра...</td>\n",
       "      <td>0</td>\n",
       "    </tr>\n",
       "    <tr>\n",
       "      <th>229819</th>\n",
       "      <td>Что происходит со мной, когда в эфире #proacti...</td>\n",
       "      <td>0</td>\n",
       "    </tr>\n",
       "    <tr>\n",
       "      <th>229820</th>\n",
       "      <td>\"Любимая,я подарю тебе эту звезду...\" Имя како...</td>\n",
       "      <td>0</td>\n",
       "    </tr>\n",
       "    <tr>\n",
       "      <th>229821</th>\n",
       "      <td>@Ma_che_rie посмотри #непытайтесьпокинутьомск ...</td>\n",
       "      <td>0</td>\n",
       "    </tr>\n",
       "  </tbody>\n",
       "</table>\n",
       "<p>229822 rows × 2 columns</p>\n",
       "</div>"
      ],
      "text/plain": [
       "                                                     text  label\n",
       "0       @first_timee хоть я и школота, но поверь, у на...      1\n",
       "1       Да, все-таки он немного похож на него. Но мой ...      1\n",
       "2       RT @KatiaCheh: Ну ты идиотка) я испугалась за ...      1\n",
       "3       RT @digger2912: \"Кто то в углу сидит и погибае...      1\n",
       "4       @irina_dyshkant Вот что значит страшилка :D\\nН...      1\n",
       "...                                                   ...    ...\n",
       "229817  Спала в родительском доме, на своей кровати......      0\n",
       "229818  RT @jebesilofyt: Эх... Мы немного решили сокра...      0\n",
       "229819  Что происходит со мной, когда в эфире #proacti...      0\n",
       "229820  \"Любимая,я подарю тебе эту звезду...\" Имя како...      0\n",
       "229821  @Ma_che_rie посмотри #непытайтесьпокинутьомск ...      0\n",
       "\n",
       "[229822 rows x 2 columns]"
      ]
     },
     "execution_count": 9,
     "metadata": {},
     "output_type": "execute_result"
    }
   ],
   "source": [
    "labeled_tweets.columns = ['text', 'label']\n",
    "labeled_tweets"
   ]
  },
  {
   "cell_type": "markdown",
   "metadata": {
    "id": "NfoSl8DVBNCg"
   },
   "source": [
    "# О чистка размеченного датасета"
   ]
  },
  {
   "cell_type": "code",
   "execution_count": 10,
   "metadata": {
    "id": "faLEs6Z0BObq"
   },
   "outputs": [],
   "source": [
    "# Оставим в тексте только кириллические символы\n",
    "def clear_text(text):\n",
    "    clear_text = re.sub(r'[^А-яЁё]+', ' ', text).lower()\n",
    "    return \" \".join(clear_text.split())\n",
    "    \n",
    "\n",
    "# напишем функцию удаляющую стоп-слова\n",
    "def clean_stop_words(text, stopwords):\n",
    "    text = [word for word in text.split() if word not in stopwords]\n",
    "    return \" \".join(text)"
   ]
  },
  {
   "cell_type": "code",
   "execution_count": 11,
   "metadata": {
    "colab": {
     "base_uri": "https://localhost:8080/"
    },
    "id": "ln1VHSxJDKH5",
    "outputId": "972d65db-8c9f-44ec-bad8-0936e4c5e0da"
   },
   "outputs": [
    {
     "data": {
      "text/plain": [
       "array({'ну', 'вот', 'ее', 'по', 'чтобы', 'тот', 'при', 'потому', 'но', 'этот', 'уж', 'этого', 'нас', 'эти', 'во', 'к', 'более', 'он', 'том', 'ты', 'три', 'надо', 'была', 'вы', 'них', 'или', 'чем', 'кто', 'а', 'другой', 'его', 'иногда', 'даже', 'может', 'она', 'здесь', 'свою', 'от', 'и', 'когда', 'никогда', 'сам', 'нельзя', 'тем', 'не', 'над', 'после', 'то', 'эту', 'теперь', 'потом', 'чего', 'вас', 'себе', 'был', 'без', 'их', 'почти', 'ведь', 'этой', 'меня', 'для', 'ним', 'ж', 'мы', 'впрочем', 'из', 'они', 'как', 'вдруг', 'разве', 'тебя', 'наконец', 'будет', 'себя', 'до', 'есть', 'ей', 'моя', 'конечно', 'ли', 'что', 'нее', 'все', 'же', 'вам', 'тогда', 'куда', 'хоть', 'чуть', 'о', 'тут', 'были', 'с', 'под', 'того', 'ничего', 'да', 'еще', 'им', 'уже', 'про', 'хорошо', 'какая', 'было', 'всего', 'на', 'всю', 'ему', 'раз', 'лучше', 'об', 'нибудь', 'через', 'тоже', 'бы', 'совсем', 'нет', 'этом', 'быть', 'со', 'один', 'всех', 'такой', 'всегда', 'сейчас', 'зачем', 'опять', 'мой', 'перед', 'много', 'если', 'будто', 'у', 'какой', 'только', 'ней', 'чтоб', 'ни', 'мне', 'так', 'в', 'между', 'него', 'за', 'там', 'больше', 'я', 'где', 'два', 'можно'},\n",
       "      dtype=object)"
      ]
     },
     "execution_count": 11,
     "metadata": {},
     "output_type": "execute_result"
    }
   ],
   "source": [
    "# загрузим список стоп-слов\n",
    "stopwords = set(nltk_stopwords.words('russian'))\n",
    "np.array(stopwords)"
   ]
  },
  {
   "cell_type": "code",
   "execution_count": 12,
   "metadata": {
    "colab": {
     "base_uri": "https://localhost:8080/"
    },
    "id": "pndGmFEjEExT",
    "outputId": "8f4642e6-74ae-49a4-e75b-33d518b0f542"
   },
   "outputs": [
    {
     "name": "stdout",
     "output_type": "stream",
     "text": [
      "Нелли, сколько можно с ней смеяться!крутая девчонка)\n",
      "=======================================\n",
      "нелли сколько смеяться крутая девчонка\n"
     ]
    }
   ],
   "source": [
    "# Протестируем работу функции очистки текста\n",
    "text = labeled_tweets['text'][np.random.randint(labeled_tweets.shape[0])]\n",
    "print(text)\n",
    "print('=======================================')\n",
    "print(clean_stop_words((clear_text(text)), stopwords))"
   ]
  },
  {
   "cell_type": "code",
   "execution_count": 13,
   "metadata": {
    "colab": {
     "base_uri": "https://localhost:8080/"
    },
    "id": "chrwG45SFUu9",
    "outputId": "576887d5-3b9f-4a8e-f134-b88d89304e47"
   },
   "outputs": [
    {
     "name": "stdout",
     "output_type": "stream",
     "text": [
      "Обработка текстов заняла: 2.43 секунд\n"
     ]
    }
   ],
   "source": [
    "start_clean = time.time()\n",
    "\n",
    "labeled_tweets['text_clear'] = labeled_tweets['text'].apply(lambda x: clean_stop_words(clear_text(str(x)), stopwords))\n",
    "\n",
    "print('Обработка текстов заняла: '+str(round(time.time() - start_clean, 2))+' секунд')"
   ]
  },
  {
   "cell_type": "code",
   "execution_count": 14,
   "metadata": {
    "colab": {
     "base_uri": "https://localhost:8080/",
     "height": 424
    },
    "id": "9cfAUwoPFtx8",
    "outputId": "cfd9425a-6bc7-474b-9625-5e16bfde9d9e"
   },
   "outputs": [
    {
     "data": {
      "text/html": [
       "<div>\n",
       "<style scoped>\n",
       "    .dataframe tbody tr th:only-of-type {\n",
       "        vertical-align: middle;\n",
       "    }\n",
       "\n",
       "    .dataframe tbody tr th {\n",
       "        vertical-align: top;\n",
       "    }\n",
       "\n",
       "    .dataframe thead th {\n",
       "        text-align: right;\n",
       "    }\n",
       "</style>\n",
       "<table border=\"1\" class=\"dataframe\">\n",
       "  <thead>\n",
       "    <tr style=\"text-align: right;\">\n",
       "      <th></th>\n",
       "      <th>text_clear</th>\n",
       "      <th>label</th>\n",
       "    </tr>\n",
       "  </thead>\n",
       "  <tbody>\n",
       "    <tr>\n",
       "      <th>0</th>\n",
       "      <td>школота поверь самое общество профилирующий пр...</td>\n",
       "      <td>1</td>\n",
       "    </tr>\n",
       "    <tr>\n",
       "      <th>1</th>\n",
       "      <td>таки немного похож мальчик равно</td>\n",
       "      <td>1</td>\n",
       "    </tr>\n",
       "    <tr>\n",
       "      <th>2</th>\n",
       "      <td>идиотка испугалась</td>\n",
       "      <td>1</td>\n",
       "    </tr>\n",
       "    <tr>\n",
       "      <th>3</th>\n",
       "      <td>углу сидит погибает голода ещё порции взяли хо...</td>\n",
       "      <td>1</td>\n",
       "    </tr>\n",
       "    <tr>\n",
       "      <th>4</th>\n",
       "      <td>значит страшилка блин посмотрев части создастс...</td>\n",
       "      <td>1</td>\n",
       "    </tr>\n",
       "    <tr>\n",
       "      <th>...</th>\n",
       "      <td>...</td>\n",
       "      <td>...</td>\n",
       "    </tr>\n",
       "    <tr>\n",
       "      <th>229817</th>\n",
       "      <td>спала родительском доме своей кровати проснула...</td>\n",
       "      <td>0</td>\n",
       "    </tr>\n",
       "    <tr>\n",
       "      <th>229818</th>\n",
       "      <td>эх немного решили сократить путь лежу мягкой к...</td>\n",
       "      <td>0</td>\n",
       "    </tr>\n",
       "    <tr>\n",
       "      <th>229819</th>\n",
       "      <td>происходит мной эфире звучит любимая песня</td>\n",
       "      <td>0</td>\n",
       "    </tr>\n",
       "    <tr>\n",
       "      <th>229820</th>\n",
       "      <td>любимая подарю тебе звезду имя звезды переводи...</td>\n",
       "      <td>0</td>\n",
       "    </tr>\n",
       "    <tr>\n",
       "      <th>229821</th>\n",
       "      <td>посмотри непытайтесьпокинутьомск сегодня вавилоне</td>\n",
       "      <td>0</td>\n",
       "    </tr>\n",
       "  </tbody>\n",
       "</table>\n",
       "<p>229822 rows × 2 columns</p>\n",
       "</div>"
      ],
      "text/plain": [
       "                                               text_clear  label\n",
       "0       школота поверь самое общество профилирующий пр...      1\n",
       "1                        таки немного похож мальчик равно      1\n",
       "2                                      идиотка испугалась      1\n",
       "3       углу сидит погибает голода ещё порции взяли хо...      1\n",
       "4       значит страшилка блин посмотрев части создастс...      1\n",
       "...                                                   ...    ...\n",
       "229817  спала родительском доме своей кровати проснула...      0\n",
       "229818  эх немного решили сократить путь лежу мягкой к...      0\n",
       "229819         происходит мной эфире звучит любимая песня      0\n",
       "229820  любимая подарю тебе звезду имя звезды переводи...      0\n",
       "229821  посмотри непытайтесьпокинутьомск сегодня вавилоне      0\n",
       "\n",
       "[229822 rows x 2 columns]"
      ]
     },
     "execution_count": 14,
     "metadata": {},
     "output_type": "execute_result"
    }
   ],
   "source": [
    "labeled_tweets = labeled_tweets[['text_clear', 'label']]\n",
    "labeled_tweets"
   ]
  },
  {
   "cell_type": "code",
   "execution_count": 15,
   "metadata": {
    "id": "h2yv7wIQFto_"
   },
   "outputs": [],
   "source": [
    "labeled_tweets.to_csv('labeled_tweets_clean.csv')"
   ]
  },
  {
   "cell_type": "markdown",
   "metadata": {
    "id": "aeQC40jSGU9c"
   },
   "source": [
    "# Загрузка размеченного датасета Linis Crowd"
   ]
  },
  {
   "cell_type": "code",
   "execution_count": 16,
   "metadata": {
    "id": "v8qZKrKyQ03Z"
   },
   "outputs": [],
   "source": [
    "#labeled_tweets['text_clear'] = labeled_tweets[['text_clear']]\n",
    "joned_text  = labeled_tweets"
   ]
  },
  {
   "cell_type": "code",
   "execution_count": 17,
   "metadata": {
    "colab": {
     "base_uri": "https://localhost:8080/"
    },
    "id": "9TYbotfDRJMj",
    "outputId": "7e742bff-2a5f-4d06-8659-4816463f2e40"
   },
   "outputs": [
    {
     "data": {
      "text/plain": [
       "1    114911\n",
       "0    114911\n",
       "Name: label, dtype: int64"
      ]
     },
     "execution_count": 17,
     "metadata": {},
     "output_type": "execute_result"
    }
   ],
   "source": [
    "joned_text.label.value_counts()"
   ]
  },
  {
   "cell_type": "code",
   "execution_count": 18,
   "metadata": {
    "id": "8q_RWjQ_RQ2P"
   },
   "outputs": [],
   "source": [
    "joned_text.columns = [ 'lemm_text', 'label']"
   ]
  },
  {
   "cell_type": "code",
   "execution_count": 19,
   "metadata": {
    "id": "9vEA26sCRQvh"
   },
   "outputs": [],
   "source": [
    "joned_text.index = range(joned_text.shape[0])"
   ]
  },
  {
   "cell_type": "markdown",
   "metadata": {
    "colab": {
     "base_uri": "https://localhost:8080/"
    },
    "id": "ymApzuIFRULQ",
    "outputId": "76adab36-096a-4cea-d0ba-d7972c454440",
    "pycharm": {
     "name": "#%% md\n"
    }
   },
   "source": [
    "joned_text.isna().sum()"
   ]
  },
  {
   "cell_type": "markdown",
   "metadata": {},
   "source": [
    "# Лемматизация текстов"
   ]
  },
  {
   "cell_type": "code",
   "execution_count": 20,
   "metadata": {},
   "outputs": [
    {
     "data": {
      "text/html": [
       "<div>\n",
       "<style scoped>\n",
       "    .dataframe tbody tr th:only-of-type {\n",
       "        vertical-align: middle;\n",
       "    }\n",
       "\n",
       "    .dataframe tbody tr th {\n",
       "        vertical-align: top;\n",
       "    }\n",
       "\n",
       "    .dataframe thead th {\n",
       "        text-align: right;\n",
       "    }\n",
       "</style>\n",
       "<table border=\"1\" class=\"dataframe\">\n",
       "  <thead>\n",
       "    <tr style=\"text-align: right;\">\n",
       "      <th></th>\n",
       "      <th>lemm_text</th>\n",
       "      <th>label</th>\n",
       "    </tr>\n",
       "  </thead>\n",
       "  <tbody>\n",
       "    <tr>\n",
       "      <th>0</th>\n",
       "      <td>школота поверь самое общество профилирующий пр...</td>\n",
       "      <td>1</td>\n",
       "    </tr>\n",
       "    <tr>\n",
       "      <th>1</th>\n",
       "      <td>таки немного похож мальчик равно</td>\n",
       "      <td>1</td>\n",
       "    </tr>\n",
       "    <tr>\n",
       "      <th>2</th>\n",
       "      <td>идиотка испугалась</td>\n",
       "      <td>1</td>\n",
       "    </tr>\n",
       "    <tr>\n",
       "      <th>3</th>\n",
       "      <td>углу сидит погибает голода ещё порции взяли хо...</td>\n",
       "      <td>1</td>\n",
       "    </tr>\n",
       "    <tr>\n",
       "      <th>4</th>\n",
       "      <td>значит страшилка блин посмотрев части создастс...</td>\n",
       "      <td>1</td>\n",
       "    </tr>\n",
       "    <tr>\n",
       "      <th>...</th>\n",
       "      <td>...</td>\n",
       "      <td>...</td>\n",
       "    </tr>\n",
       "    <tr>\n",
       "      <th>229817</th>\n",
       "      <td>спала родительском доме своей кровати проснула...</td>\n",
       "      <td>0</td>\n",
       "    </tr>\n",
       "    <tr>\n",
       "      <th>229818</th>\n",
       "      <td>эх немного решили сократить путь лежу мягкой к...</td>\n",
       "      <td>0</td>\n",
       "    </tr>\n",
       "    <tr>\n",
       "      <th>229819</th>\n",
       "      <td>происходит мной эфире звучит любимая песня</td>\n",
       "      <td>0</td>\n",
       "    </tr>\n",
       "    <tr>\n",
       "      <th>229820</th>\n",
       "      <td>любимая подарю тебе звезду имя звезды переводи...</td>\n",
       "      <td>0</td>\n",
       "    </tr>\n",
       "    <tr>\n",
       "      <th>229821</th>\n",
       "      <td>посмотри непытайтесьпокинутьомск сегодня вавилоне</td>\n",
       "      <td>0</td>\n",
       "    </tr>\n",
       "  </tbody>\n",
       "</table>\n",
       "<p>229822 rows × 2 columns</p>\n",
       "</div>"
      ],
      "text/plain": [
       "                                                lemm_text  label\n",
       "0       школота поверь самое общество профилирующий пр...      1\n",
       "1                        таки немного похож мальчик равно      1\n",
       "2                                      идиотка испугалась      1\n",
       "3       углу сидит погибает голода ещё порции взяли хо...      1\n",
       "4       значит страшилка блин посмотрев части создастс...      1\n",
       "...                                                   ...    ...\n",
       "229817  спала родительском доме своей кровати проснула...      0\n",
       "229818  эх немного решили сократить путь лежу мягкой к...      0\n",
       "229819         происходит мной эфире звучит любимая песня      0\n",
       "229820  любимая подарю тебе звезду имя звезды переводи...      0\n",
       "229821  посмотри непытайтесьпокинутьомск сегодня вавилоне      0\n",
       "\n",
       "[229822 rows x 2 columns]"
      ]
     },
     "execution_count": 20,
     "metadata": {},
     "output_type": "execute_result"
    }
   ],
   "source": [
    "selected = joned_text\n",
    "selected"
   ]
  },
  {
   "cell_type": "code",
   "execution_count": 21,
   "metadata": {},
   "outputs": [
    {
     "name": "stdout",
     "output_type": "stream",
     "text": [
      "Обработка текстов заняла: 2.11 секунд\n"
     ]
    }
   ],
   "source": [
    "start_clean = time.time()\n",
    "\n",
    "selected['text_clear'] = selected['lemm_text']\\\n",
    "                               .apply(lambda x:\n",
    "                                      clean_stop_words(\n",
    "                                        clear_text(str(x)),\n",
    "                                        stopwords))\n",
    "\n",
    "print('Обработка текстов заняла: '+str(round(time.time() - start_clean, 2))+' секунд')"
   ]
  },
  {
   "cell_type": "code",
   "execution_count": 22,
   "metadata": {},
   "outputs": [],
   "source": [
    "def lemmatize(df : (pd.Series, pd.DataFrame),\n",
    "              text_column : (None, str),\n",
    "              n_samples : int,\n",
    "              break_str = 'br',\n",
    "             ) -> pd.Series:\n",
    "    \"\"\"\n",
    "    Принимает:\n",
    "    df -- таблицу или столбец pandas содержащий тексты,\n",
    "    text_column -- название столбца указываем если передаем таблицу,\n",
    "    n_samples -- количество текстов для объединения,\n",
    "    break_str -- символ разделения, нужен для ускорения,\n",
    "    количество текстов записанное в n_samples объединяется \n",
    "    в одит большой текст с предварительной вставкой символа \n",
    "    записанного в break_str между фрагментами\n",
    "    затем большой текст лемматизируется, после чего разбивается на\n",
    "    фрагменты по символу break_str\n",
    "    \n",
    "    \n",
    "    Возвращает:\n",
    "    Столбец pd.Series с лемматизированными текстами\n",
    "    в которых все слова приведены к изначальной форме:\n",
    "    * для существительных — именительный падеж, единственное число;\n",
    "    * для прилагательных — именительный падеж, единственное число,\n",
    "    мужской род;\n",
    "    * для глаголов, причастий, деепричастий — глагол в инфинитиве \n",
    "    (неопределённой форме) несовершенного вида.\n",
    "    \n",
    "    \"\"\"\n",
    "    \n",
    "    result = []\n",
    "    \n",
    "    m = Mystem()    \n",
    "    \n",
    "    for i in tqdm(range((df.shape[0] // n_samples) + 1)) :\n",
    "        \n",
    "        start = i * n_samples\n",
    "        \n",
    "        stop = start + n_samples\n",
    "        \n",
    "        sample = break_str.join(df[text_column][start : stop].values)\n",
    "        \n",
    "        lemmas = m.lemmatize(sample)\n",
    "        \n",
    "        lemm_sample = ''.join(lemmas).split(break_str)\n",
    "        \n",
    "        result += lemm_sample\n",
    "        \n",
    "    return pd.Series(result, index = df.index)"
   ]
  },
  {
   "cell_type": "code",
   "execution_count": 23,
   "metadata": {},
   "outputs": [
    {
     "name": "stderr",
     "output_type": "stream",
     "text": [
      "100%|███████████████████████████████████████████████████████████████████████████████████████████████████████████████████████████████████████████████| 2299/2299 [52:58<00:00,  1.38s/it]\n"
     ]
    }
   ],
   "source": [
    "selected['lemm_clean_tex'] = lemmatize(\n",
    "    df = selected,\n",
    "    text_column = 'text_clear',\n",
    "    n_samples = 100,\n",
    "    break_str = 'br',\n",
    "    )"
   ]
  },
  {
   "cell_type": "code",
   "execution_count": 26,
   "metadata": {
    "pycharm": {
     "name": "#%%\n"
    }
   },
   "outputs": [
    {
     "data": {
      "text/html": [
       "<div>\n",
       "<style scoped>\n",
       "    .dataframe tbody tr th:only-of-type {\n",
       "        vertical-align: middle;\n",
       "    }\n",
       "\n",
       "    .dataframe tbody tr th {\n",
       "        vertical-align: top;\n",
       "    }\n",
       "\n",
       "    .dataframe thead th {\n",
       "        text-align: right;\n",
       "    }\n",
       "</style>\n",
       "<table border=\"1\" class=\"dataframe\">\n",
       "  <thead>\n",
       "    <tr style=\"text-align: right;\">\n",
       "      <th></th>\n",
       "      <th>lemm_text</th>\n",
       "      <th>label</th>\n",
       "      <th>text_clear</th>\n",
       "      <th>lemm_clean_tex</th>\n",
       "    </tr>\n",
       "  </thead>\n",
       "  <tbody>\n",
       "    <tr>\n",
       "      <th>0</th>\n",
       "      <td>школота поверь самое общество профилирующий пр...</td>\n",
       "      <td>1</td>\n",
       "      <td>школота поверь самое общество профилирующий пр...</td>\n",
       "      <td>школоть поверять самый общество профилировать ...</td>\n",
       "    </tr>\n",
       "    <tr>\n",
       "      <th>1</th>\n",
       "      <td>таки немного похож мальчик равно</td>\n",
       "      <td>1</td>\n",
       "      <td>таки немного похож мальчик равно</td>\n",
       "      <td>таки немного похожий мальчик равно</td>\n",
       "    </tr>\n",
       "    <tr>\n",
       "      <th>2</th>\n",
       "      <td>идиотка испугалась</td>\n",
       "      <td>1</td>\n",
       "      <td>идиотка испугалась</td>\n",
       "      <td>идиотка испугалась</td>\n",
       "    </tr>\n",
       "    <tr>\n",
       "      <th>3</th>\n",
       "      <td>углу сидит погибает голода ещё порции взяли хо...</td>\n",
       "      <td>1</td>\n",
       "      <td>углу сидит погибает голода ещё порции взяли хо...</td>\n",
       "      <td>углу сидеть погибать голод еще порция взять хо...</td>\n",
       "    </tr>\n",
       "    <tr>\n",
       "      <th>4</th>\n",
       "      <td>значит страшилка блин посмотрев части создастс...</td>\n",
       "      <td>1</td>\n",
       "      <td>значит страшилка блин посмотрев части создастс...</td>\n",
       "      <td>значит страшилка блин посмотреть часть создава...</td>\n",
       "    </tr>\n",
       "  </tbody>\n",
       "</table>\n",
       "</div>"
      ],
      "text/plain": [
       "                                           lemm_text  label  \\\n",
       "0  школота поверь самое общество профилирующий пр...      1   \n",
       "1                   таки немного похож мальчик равно      1   \n",
       "2                                 идиотка испугалась      1   \n",
       "3  углу сидит погибает голода ещё порции взяли хо...      1   \n",
       "4  значит страшилка блин посмотрев части создастс...      1   \n",
       "\n",
       "                                          text_clear  \\\n",
       "0  школота поверь самое общество профилирующий пр...   \n",
       "1                   таки немного похож мальчик равно   \n",
       "2                                 идиотка испугалась   \n",
       "3  углу сидит погибает голода ещё порции взяли хо...   \n",
       "4  значит страшилка блин посмотрев части создастс...   \n",
       "\n",
       "                                      lemm_clean_tex  \n",
       "0  школоть поверять самый общество профилировать ...  \n",
       "1                 таки немного похожий мальчик равно  \n",
       "2                                 идиотка испугалась  \n",
       "3  углу сидеть погибать голод еще порция взять хо...  \n",
       "4  значит страшилка блин посмотреть часть создава...  "
      ]
     },
     "execution_count": 26,
     "metadata": {},
     "output_type": "execute_result"
    }
   ],
   "source": [
    "selected.head()"
   ]
  },
  {
   "cell_type": "code",
   "execution_count": 33,
   "metadata": {},
   "outputs": [
    {
     "data": {
      "text/html": [
       "<div>\n",
       "<style scoped>\n",
       "    .dataframe tbody tr th:only-of-type {\n",
       "        vertical-align: middle;\n",
       "    }\n",
       "\n",
       "    .dataframe tbody tr th {\n",
       "        vertical-align: top;\n",
       "    }\n",
       "\n",
       "    .dataframe thead th {\n",
       "        text-align: right;\n",
       "    }\n",
       "</style>\n",
       "<table border=\"1\" class=\"dataframe\">\n",
       "  <thead>\n",
       "    <tr style=\"text-align: right;\">\n",
       "      <th></th>\n",
       "      <th>lemm_text</th>\n",
       "      <th>lemm_clean_tex</th>\n",
       "      <th>label</th>\n",
       "    </tr>\n",
       "  </thead>\n",
       "  <tbody>\n",
       "    <tr>\n",
       "      <th>0</th>\n",
       "      <td>школота поверь самое общество профилирующий пр...</td>\n",
       "      <td>школоть поверять самый общество профилировать ...</td>\n",
       "      <td>1</td>\n",
       "    </tr>\n",
       "    <tr>\n",
       "      <th>1</th>\n",
       "      <td>таки немного похож мальчик равно</td>\n",
       "      <td>таки немного похожий мальчик равно</td>\n",
       "      <td>1</td>\n",
       "    </tr>\n",
       "    <tr>\n",
       "      <th>2</th>\n",
       "      <td>идиотка испугалась</td>\n",
       "      <td>идиотка испугалась</td>\n",
       "      <td>1</td>\n",
       "    </tr>\n",
       "    <tr>\n",
       "      <th>3</th>\n",
       "      <td>углу сидит погибает голода ещё порции взяли хо...</td>\n",
       "      <td>углу сидеть погибать голод еще порция взять хо...</td>\n",
       "      <td>1</td>\n",
       "    </tr>\n",
       "    <tr>\n",
       "      <th>4</th>\n",
       "      <td>значит страшилка блин посмотрев части создастс...</td>\n",
       "      <td>значит страшилка блин посмотреть часть создава...</td>\n",
       "      <td>1</td>\n",
       "    </tr>\n",
       "    <tr>\n",
       "      <th>...</th>\n",
       "      <td>...</td>\n",
       "      <td>...</td>\n",
       "      <td>...</td>\n",
       "    </tr>\n",
       "    <tr>\n",
       "      <th>229817</th>\n",
       "      <td>спала родительском доме своей кровати проснула...</td>\n",
       "      <td>спала родительский дом свой кровать просыпатьс...</td>\n",
       "      <td>0</td>\n",
       "    </tr>\n",
       "    <tr>\n",
       "      <th>229818</th>\n",
       "      <td>эх немного решили сократить путь лежу мягкой к...</td>\n",
       "      <td>эх немного решать сокращать путь лежать мягкий...</td>\n",
       "      <td>0</td>\n",
       "    </tr>\n",
       "    <tr>\n",
       "      <th>229819</th>\n",
       "      <td>происходит мной эфире звучит любимая песня</td>\n",
       "      <td>происходит я эфир звучать любить песня</td>\n",
       "      <td>0</td>\n",
       "    </tr>\n",
       "    <tr>\n",
       "      <th>229820</th>\n",
       "      <td>любимая подарю тебе звезду имя звезды переводи...</td>\n",
       "      <td>любимая подарить ты звезда имя звезда переводи...</td>\n",
       "      <td>0</td>\n",
       "    </tr>\n",
       "    <tr>\n",
       "      <th>229821</th>\n",
       "      <td>посмотри непытайтесьпокинутьомск сегодня вавилоне</td>\n",
       "      <td>посмотри непытайтесьпокинутьомск сегодня вавил...</td>\n",
       "      <td>0</td>\n",
       "    </tr>\n",
       "  </tbody>\n",
       "</table>\n",
       "<p>229822 rows × 3 columns</p>\n",
       "</div>"
      ],
      "text/plain": [
       "                                                lemm_text  \\\n",
       "0       школота поверь самое общество профилирующий пр...   \n",
       "1                        таки немного похож мальчик равно   \n",
       "2                                      идиотка испугалась   \n",
       "3       углу сидит погибает голода ещё порции взяли хо...   \n",
       "4       значит страшилка блин посмотрев части создастс...   \n",
       "...                                                   ...   \n",
       "229817  спала родительском доме своей кровати проснула...   \n",
       "229818  эх немного решили сократить путь лежу мягкой к...   \n",
       "229819         происходит мной эфире звучит любимая песня   \n",
       "229820  любимая подарю тебе звезду имя звезды переводи...   \n",
       "229821  посмотри непытайтесьпокинутьомск сегодня вавилоне   \n",
       "\n",
       "                                           lemm_clean_tex  label  \n",
       "0       школоть поверять самый общество профилировать ...      1  \n",
       "1                      таки немного похожий мальчик равно      1  \n",
       "2                                      идиотка испугалась      1  \n",
       "3       углу сидеть погибать голод еще порция взять хо...      1  \n",
       "4       значит страшилка блин посмотреть часть создава...      1  \n",
       "...                                                   ...    ...  \n",
       "229817  спала родительский дом свой кровать просыпатьс...      0  \n",
       "229818  эх немного решать сокращать путь лежать мягкий...      0  \n",
       "229819             происходит я эфир звучать любить песня      0  \n",
       "229820  любимая подарить ты звезда имя звезда переводи...      0  \n",
       "229821  посмотри непытайтесьпокинутьомск сегодня вавил...      0  \n",
       "\n",
       "[229822 rows x 3 columns]"
      ]
     },
     "execution_count": 33,
     "metadata": {},
     "output_type": "execute_result"
    }
   ],
   "source": [
    "sample_1= selected[['lemm_text','lemm_clean_tex','label']]\n",
    "sample_1"
   ]
  },
  {
   "cell_type": "markdown",
   "metadata": {
    "id": "R160Qe2JQ1Lv",
    "pycharm": {
     "name": "#%% md\n"
    }
   },
   "source": [
    "# Получение TF-IDF векторных представлений размеченных текстов\n",
    "\n",
    "Для обучения классификатора получим значения IDF (inference document frequency) для слов из тренировочного набора данных, значения IDF равны логарифму отношения количества документов к количеству документов содержащих искомое слово. Например для стандартных слов, которые встречаются практически в любом тексте IDF будет близок к единице, а для специфичных, которые встречаются в одном тексте из 100 это значение будет равно уже 2 (если мы берем основание логарифма 10).\n",
    "\n",
    "\n",
    "Затем получив словарь со значениями IDF мы можем получить векторное представление каждого текста по следующему принципу, значения IDF слова умножаем на значения"
   ]
  },
  {
   "cell_type": "code",
   "execution_count": 34,
   "metadata": {
    "id": "9xMtnimuRnzi"
   },
   "outputs": [
    {
     "data": {
      "text/html": [
       "<div>\n",
       "<style scoped>\n",
       "    .dataframe tbody tr th:only-of-type {\n",
       "        vertical-align: middle;\n",
       "    }\n",
       "\n",
       "    .dataframe tbody tr th {\n",
       "        vertical-align: top;\n",
       "    }\n",
       "\n",
       "    .dataframe thead th {\n",
       "        text-align: right;\n",
       "    }\n",
       "</style>\n",
       "<table border=\"1\" class=\"dataframe\">\n",
       "  <thead>\n",
       "    <tr style=\"text-align: right;\">\n",
       "      <th></th>\n",
       "      <th>lemm_text</th>\n",
       "      <th>lemm_clean_tex</th>\n",
       "      <th>label</th>\n",
       "    </tr>\n",
       "  </thead>\n",
       "  <tbody>\n",
       "    <tr>\n",
       "      <th>0</th>\n",
       "      <td>школота поверь самое общество профилирующий пр...</td>\n",
       "      <td>школоть поверять самый общество профилировать ...</td>\n",
       "      <td>1</td>\n",
       "    </tr>\n",
       "    <tr>\n",
       "      <th>1</th>\n",
       "      <td>таки немного похож мальчик равно</td>\n",
       "      <td>таки немного похожий мальчик равно</td>\n",
       "      <td>1</td>\n",
       "    </tr>\n",
       "    <tr>\n",
       "      <th>2</th>\n",
       "      <td>идиотка испугалась</td>\n",
       "      <td>идиотка испугалась</td>\n",
       "      <td>1</td>\n",
       "    </tr>\n",
       "    <tr>\n",
       "      <th>3</th>\n",
       "      <td>углу сидит погибает голода ещё порции взяли хо...</td>\n",
       "      <td>углу сидеть погибать голод еще порция взять хо...</td>\n",
       "      <td>1</td>\n",
       "    </tr>\n",
       "    <tr>\n",
       "      <th>4</th>\n",
       "      <td>значит страшилка блин посмотрев части создастс...</td>\n",
       "      <td>значит страшилка блин посмотреть часть создава...</td>\n",
       "      <td>1</td>\n",
       "    </tr>\n",
       "    <tr>\n",
       "      <th>...</th>\n",
       "      <td>...</td>\n",
       "      <td>...</td>\n",
       "      <td>...</td>\n",
       "    </tr>\n",
       "    <tr>\n",
       "      <th>229817</th>\n",
       "      <td>спала родительском доме своей кровати проснула...</td>\n",
       "      <td>спала родительский дом свой кровать просыпатьс...</td>\n",
       "      <td>0</td>\n",
       "    </tr>\n",
       "    <tr>\n",
       "      <th>229818</th>\n",
       "      <td>эх немного решили сократить путь лежу мягкой к...</td>\n",
       "      <td>эх немного решать сокращать путь лежать мягкий...</td>\n",
       "      <td>0</td>\n",
       "    </tr>\n",
       "    <tr>\n",
       "      <th>229819</th>\n",
       "      <td>происходит мной эфире звучит любимая песня</td>\n",
       "      <td>происходит я эфир звучать любить песня</td>\n",
       "      <td>0</td>\n",
       "    </tr>\n",
       "    <tr>\n",
       "      <th>229820</th>\n",
       "      <td>любимая подарю тебе звезду имя звезды переводи...</td>\n",
       "      <td>любимая подарить ты звезда имя звезда переводи...</td>\n",
       "      <td>0</td>\n",
       "    </tr>\n",
       "    <tr>\n",
       "      <th>229821</th>\n",
       "      <td>посмотри непытайтесьпокинутьомск сегодня вавилоне</td>\n",
       "      <td>посмотри непытайтесьпокинутьомск сегодня вавил...</td>\n",
       "      <td>0</td>\n",
       "    </tr>\n",
       "  </tbody>\n",
       "</table>\n",
       "<p>229822 rows × 3 columns</p>\n",
       "</div>"
      ],
      "text/plain": [
       "                                                lemm_text  \\\n",
       "0       школота поверь самое общество профилирующий пр...   \n",
       "1                        таки немного похож мальчик равно   \n",
       "2                                      идиотка испугалась   \n",
       "3       углу сидит погибает голода ещё порции взяли хо...   \n",
       "4       значит страшилка блин посмотрев части создастс...   \n",
       "...                                                   ...   \n",
       "229817  спала родительском доме своей кровати проснула...   \n",
       "229818  эх немного решили сократить путь лежу мягкой к...   \n",
       "229819         происходит мной эфире звучит любимая песня   \n",
       "229820  любимая подарю тебе звезду имя звезды переводи...   \n",
       "229821  посмотри непытайтесьпокинутьомск сегодня вавилоне   \n",
       "\n",
       "                                           lemm_clean_tex  label  \n",
       "0       школоть поверять самый общество профилировать ...      1  \n",
       "1                      таки немного похожий мальчик равно      1  \n",
       "2                                      идиотка испугалась      1  \n",
       "3       углу сидеть погибать голод еще порция взять хо...      1  \n",
       "4       значит страшилка блин посмотреть часть создава...      1  \n",
       "...                                                   ...    ...  \n",
       "229817  спала родительский дом свой кровать просыпатьс...      0  \n",
       "229818  эх немного решать сокращать путь лежать мягкий...      0  \n",
       "229819             происходит я эфир звучать любить песня      0  \n",
       "229820  любимая подарить ты звезда имя звезда переводи...      0  \n",
       "229821  посмотри непытайтесьпокинутьомск сегодня вавил...      0  \n",
       "\n",
       "[229822 rows x 3 columns]"
      ]
     },
     "execution_count": 34,
     "metadata": {},
     "output_type": "execute_result"
    }
   ],
   "source": [
    "#sample_1 = joned_text\n",
    "#sample_1.columns = [ 'text_lemm', 'label']\n",
    "#sample_1[\"text_clear\"] = labeled_tweets[['text_clear']]\n",
    "sample_1"
   ]
  },
  {
   "cell_type": "code",
   "execution_count": 35,
   "metadata": {
    "colab": {
     "base_uri": "https://localhost:8080/"
    },
    "id": "9V0KWWtfSTL8",
    "outputId": "924bced1-90b2-49e4-d568-065e0ae84412"
   },
   "outputs": [
    {
     "name": "stdout",
     "output_type": "stream",
     "text": [
      "(183857, 3)\n",
      "(45965, 3)\n"
     ]
    }
   ],
   "source": [
    "# предварительно разделим выборку на тестовую и обучающую\n",
    "train, test = train_test_split(sample_1,\n",
    "                        test_size = 0.2,\n",
    "                        random_state = 12348,\n",
    "                       )\n",
    "\n",
    "print(train.shape)\n",
    "print(test.shape)"
   ]
  },
  {
   "cell_type": "code",
   "execution_count": 36,
   "metadata": {
    "colab": {
     "base_uri": "https://localhost:8080/",
     "height": 468
    },
    "id": "5u6JzmvVSW00",
    "outputId": "04a64751-74f0-4f03-d9c2-83851a6c6b17"
   },
   "outputs": [
    {
     "data": {
      "text/html": [
       "<div>\n",
       "<style scoped>\n",
       "    .dataframe tbody tr th:only-of-type {\n",
       "        vertical-align: middle;\n",
       "    }\n",
       "\n",
       "    .dataframe tbody tr th {\n",
       "        vertical-align: top;\n",
       "    }\n",
       "\n",
       "    .dataframe thead th {\n",
       "        text-align: right;\n",
       "    }\n",
       "</style>\n",
       "<table border=\"1\" class=\"dataframe\">\n",
       "  <thead>\n",
       "    <tr style=\"text-align: right;\">\n",
       "      <th></th>\n",
       "      <th>lemm_text</th>\n",
       "      <th>lemm_clean_tex</th>\n",
       "      <th>label</th>\n",
       "    </tr>\n",
       "  </thead>\n",
       "  <tbody>\n",
       "    <tr>\n",
       "      <th>162750</th>\n",
       "      <td>норм понедельник сами</td>\n",
       "      <td>норм понедельник сами</td>\n",
       "      <td>0</td>\n",
       "    </tr>\n",
       "    <tr>\n",
       "      <th>55944</th>\n",
       "      <td>откажется последний год дотерпит грозятся</td>\n",
       "      <td>откажется последний год дотерпеть грозятся</td>\n",
       "      <td>1</td>\n",
       "    </tr>\n",
       "    <tr>\n",
       "      <th>177605</th>\n",
       "      <td>возму руки тебе станет легче</td>\n",
       "      <td>возму рука ты становиться легче</td>\n",
       "      <td>0</td>\n",
       "    </tr>\n",
       "    <tr>\n",
       "      <th>218591</th>\n",
       "      <td>поводу заминирования станций метро вромайдан</td>\n",
       "      <td>поводу заминирование станция метро вромайдан</td>\n",
       "      <td>0</td>\n",
       "    </tr>\n",
       "    <tr>\n",
       "      <th>140799</th>\n",
       "      <td>ололо геи китая пронумерованы двоичной системе</td>\n",
       "      <td>ололо гей китай пронумеровывать двоичный систе...</td>\n",
       "      <td>0</td>\n",
       "    </tr>\n",
       "    <tr>\n",
       "      <th>...</th>\n",
       "      <td>...</td>\n",
       "      <td>...</td>\n",
       "      <td>...</td>\n",
       "    </tr>\n",
       "    <tr>\n",
       "      <th>141717</th>\n",
       "      <td>знаешь братуха хотел просто поиграть любовь вл...</td>\n",
       "      <td>знаешь братуха хотеть просто поиграть любовь в...</td>\n",
       "      <td>0</td>\n",
       "    </tr>\n",
       "    <tr>\n",
       "      <th>207453</th>\n",
       "      <td>вспоминаются сразу журналы фрестьянка хоботница</td>\n",
       "      <td>вспоминаются сразу журнал фрестьянка хоботница</td>\n",
       "      <td>0</td>\n",
       "    </tr>\n",
       "    <tr>\n",
       "      <th>36863</th>\n",
       "      <td>председатель правительства рф дмитрий медведев...</td>\n",
       "      <td>председатель правительство рф дмитрий медведев...</td>\n",
       "      <td>1</td>\n",
       "    </tr>\n",
       "    <tr>\n",
       "      <th>146555</th>\n",
       "      <td>самовьющиеся локоны таинственныйвзгляд</td>\n",
       "      <td>самовьющиеся локон таинственныйвзгляд</td>\n",
       "      <td>0</td>\n",
       "    </tr>\n",
       "    <tr>\n",
       "      <th>16831</th>\n",
       "      <td>две недели набираю высший балл пока классе ент...</td>\n",
       "      <td>две неделя набирать высокий балл пока класс ен...</td>\n",
       "      <td>1</td>\n",
       "    </tr>\n",
       "  </tbody>\n",
       "</table>\n",
       "<p>183857 rows × 3 columns</p>\n",
       "</div>"
      ],
      "text/plain": [
       "                                                lemm_text  \\\n",
       "162750                              норм понедельник сами   \n",
       "55944           откажется последний год дотерпит грозятся   \n",
       "177605                       возму руки тебе станет легче   \n",
       "218591       поводу заминирования станций метро вромайдан   \n",
       "140799     ололо геи китая пронумерованы двоичной системе   \n",
       "...                                                   ...   \n",
       "141717  знаешь братуха хотел просто поиграть любовь вл...   \n",
       "207453    вспоминаются сразу журналы фрестьянка хоботница   \n",
       "36863   председатель правительства рф дмитрий медведев...   \n",
       "146555             самовьющиеся локоны таинственныйвзгляд   \n",
       "16831   две недели набираю высший балл пока классе ент...   \n",
       "\n",
       "                                           lemm_clean_tex  label  \n",
       "162750                              норм понедельник сами      0  \n",
       "55944          откажется последний год дотерпеть грозятся      1  \n",
       "177605                    возму рука ты становиться легче      0  \n",
       "218591       поводу заминирование станция метро вромайдан      0  \n",
       "140799  ололо гей китай пронумеровывать двоичный систе...      0  \n",
       "...                                                   ...    ...  \n",
       "141717  знаешь братуха хотеть просто поиграть любовь в...      0  \n",
       "207453     вспоминаются сразу журнал фрестьянка хоботница      0  \n",
       "36863   председатель правительство рф дмитрий медведев...      1  \n",
       "146555              самовьющиеся локон таинственныйвзгляд      0  \n",
       "16831   две неделя набирать высокий балл пока класс ен...      1  \n",
       "\n",
       "[183857 rows x 3 columns]"
      ]
     },
     "execution_count": 36,
     "metadata": {},
     "output_type": "execute_result"
    }
   ],
   "source": [
    "train"
   ]
  },
  {
   "cell_type": "code",
   "execution_count": 37,
   "metadata": {
    "colab": {
     "base_uri": "https://localhost:8080/"
    },
    "id": "PQN_6VEvSYjf",
    "outputId": "8703cf64-e458-4c6f-9147-9bceed59a327"
   },
   "outputs": [
    {
     "name": "stdout",
     "output_type": "stream",
     "text": [
      "0.5002148408817723\n",
      "0.49914065049494183\n"
     ]
    }
   ],
   "source": [
    "# Сравним распределение целевого признака\n",
    "for sample in [train, test]:    \n",
    "    print(sample[sample['label'] == 1].shape[0] / sample.shape[0])"
   ]
  },
  {
   "cell_type": "markdown",
   "metadata": {
    "id": "NuN_yv5iSzx4",
    "pycharm": {
     "name": "#%% md\n"
    }
   },
   "source": [
    "#Предварительное обучение моделей"
   ]
  },
  {
   "cell_type": "code",
   "execution_count": null,
   "outputs": [],
   "source": [
    "\n",
    "# Получим векторные представления текстов\n",
    "count_idf_1 = TfidfVectorizer(ngram_range=(1,1))"
   ],
   "metadata": {
    "collapsed": false,
    "pycharm": {
     "name": "#%%\n"
    }
   }
  },
  {
   "cell_type": "code",
   "execution_count": null,
   "outputs": [],
   "source": [
    "tf_idf_base_1 = count_idf_1.fit(sample_1['lemm_text'])\n",
    "tf_idf_train_base_1 = count_idf_1.transform(train['lemm_text'])\n",
    "tf_idf_test_base_1 = count_idf_1.transform(test['lemm_text'])"
   ],
   "metadata": {
    "collapsed": false,
    "pycharm": {
     "name": "#%%\n"
    }
   }
  },
  {
   "cell_type": "code",
   "execution_count": null,
   "outputs": [],
   "source": [
    "display(tf_idf_test_base_1.shape)\n",
    "display(tf_idf_train_base_1.shape)"
   ],
   "metadata": {
    "collapsed": false,
    "pycharm": {
     "name": "#%%\n"
    }
   }
  },
  {
   "cell_type": "code",
   "execution_count": null,
   "outputs": [],
   "source": [
    "model_lr_base_1 = LogisticRegression(solver = 'lbfgs',\n",
    "                                    random_state = 12345,\n",
    "                                    max_iter= 10000,\n",
    "                                     n_jobs=-1)\n",
    "print('finish')"
   ],
   "metadata": {
    "collapsed": false,
    "pycharm": {
     "name": "#%%\n"
    }
   }
  },
  {
   "cell_type": "code",
   "execution_count": null,
   "outputs": [],
   "source": [
    "model_lr_base_1.fit(tf_idf_train_base_1, train['label'])\n"
   ],
   "metadata": {
    "collapsed": false,
    "pycharm": {
     "name": "#%%\n"
    }
   }
  },
  {
   "cell_type": "code",
   "execution_count": null,
   "outputs": [],
   "source": [
    "predict_lr_base_proba = model_lr_base_1.predict_proba(tf_idf_test_base_1)\n",
    "predict_lr_base_proba"
   ],
   "metadata": {
    "collapsed": false,
    "pycharm": {
     "name": "#%%\n"
    }
   }
  },
  {
   "cell_type": "code",
   "execution_count": null,
   "outputs": [],
   "source": [
    "# Выведем 5 случайных комментариев c оценкой негатива первого видео\n",
    "for _ in range(5):\n",
    "\n",
    "    source = data_df.sample(n=1)\n",
    "    text_clear = source['comment'].values[0]\n",
    "    text = source['comment'].values[0]\n",
    "\n",
    "    print(text)\n",
    "\n",
    "    tf_idf_text = count_idf_1.transform([text_clear])\n",
    "\n",
    "    toxic_proba = model_lr_base_1.predict_proba(tf_idf_text)\n",
    "\n",
    "    print('Вероятность негатива: ', toxic_proba[:, 0])\n",
    "    print()"
   ],
   "metadata": {
    "collapsed": false,
    "pycharm": {
     "name": "#%%\n"
    }
   }
  },
  {
   "cell_type": "code",
   "execution_count": null,
   "outputs": [],
   "source": [],
   "metadata": {
    "collapsed": false,
    "pycharm": {
     "name": "#%%\n"
    }
   }
  },
  {
   "cell_type": "code",
   "execution_count": null,
   "outputs": [],
   "source": [],
   "metadata": {
    "collapsed": false,
    "pycharm": {
     "name": "#%%\n"
    }
   }
  },
  {
   "cell_type": "code",
   "execution_count": 38,
   "metadata": {
    "id": "SHQ7-Z1bS1lw"
   },
   "outputs": [],
   "source": []
  },
  {
   "cell_type": "code",
   "execution_count": 41,
   "metadata": {
    "id": "_ZfsprMwS3f2"
   },
   "outputs": [],
   "source": [
    "tf_idf_base_1 = count_idf_1.fit(sample_1['lemm_text'])\n",
    "tf_idf_train_base_1 = count_idf_1.transform(train['lemm_text'])\n",
    "tf_idf_test_base_1 = count_idf_1.transform(test['lemm_text'])"
   ]
  },
  {
   "cell_type": "code",
   "execution_count": 42,
   "metadata": {
    "colab": {
     "base_uri": "https://localhost:8080/",
     "height": 52
    },
    "id": "0DET98t4S6To",
    "outputId": "61a2ec3f-72d2-438d-e04a-5185ddde962b"
   },
   "outputs": [
    {
     "data": {
      "text/plain": [
       "(45965, 119363)"
      ]
     },
     "metadata": {},
     "output_type": "display_data"
    },
    {
     "data": {
      "text/plain": [
       "(183857, 119363)"
      ]
     },
     "metadata": {},
     "output_type": "display_data"
    }
   ],
   "source": [
    "display(tf_idf_test_base_1.shape)\n",
    "display(tf_idf_train_base_1.shape)"
   ]
  },
  {
   "cell_type": "code",
   "execution_count": 43,
   "metadata": {
    "id": "E5J3xmtoS7Rw"
   },
   "outputs": [
    {
     "name": "stdout",
     "output_type": "stream",
     "text": [
      "finish\n"
     ]
    }
   ],
   "source": [
    "model_lr_base_1 = LogisticRegression(solver = 'lbfgs',\n",
    "                                    random_state = 12345,\n",
    "                                    max_iter= 10000,\n",
    "                                     n_jobs=-1)\n",
    "print('finish')"
   ]
  },
  {
   "cell_type": "code",
   "execution_count": 47,
   "metadata": {
    "id": "DzbDfzAsTAAl"
   },
   "outputs": [
    {
     "data": {
      "text/plain": [
       "LogisticRegression(max_iter=10000, n_jobs=-1, random_state=12345)"
      ]
     },
     "execution_count": 47,
     "metadata": {},
     "output_type": "execute_result"
    }
   ],
   "source": [
    "model_lr_base_1.fit(tf_idf_train_base_1, train['label'])\n"
   ]
  },
  {
   "cell_type": "code",
   "execution_count": 48,
   "metadata": {
    "id": "dA6VwzqkTCwb"
   },
   "outputs": [
    {
     "data": {
      "text/plain": [
       "array([[0.52108804, 0.47891196],\n",
       "       [0.59789269, 0.40210731],\n",
       "       [0.40166341, 0.59833659],\n",
       "       ...,\n",
       "       [0.59536057, 0.40463943],\n",
       "       [0.5474012 , 0.4525988 ],\n",
       "       [0.51642207, 0.48357793]])"
      ]
     },
     "execution_count": 48,
     "metadata": {},
     "output_type": "execute_result"
    }
   ],
   "source": [
    "predict_lr_base_proba = model_lr_base_1.predict_proba(tf_idf_test_base_1)\n",
    "predict_lr_base_proba"
   ]
  },
  {
   "cell_type": "code",
   "execution_count": 49,
   "metadata": {
    "pycharm": {
     "name": "#%%\n"
    }
   },
   "outputs": [
    {
     "name": "stdout",
     "output_type": "stream",
     "text": [
      "жаль качество ингридиент смочь удерживать уровень тут понятно что дело чизкейк любимый у ,\n",
      "Вероятность негатива:  [0.46821061]\n",
      "\n",
      "офигенный ,\n",
      "Вероятность негатива:  [0.41622328]\n",
      "\n",
      "очень классный ролик задумываться будущее полнометражный картина ,\n",
      "Вероятность негатива:  [0.52943401]\n",
      "\n",
      "додо любить пицца вкусный спасибо готовить я для ,\n",
      "Вероятность негатива:  [0.49129379]\n",
      "\n",
      "обожать додо пицца какой город не приезжать первый дело искать ваш ресторан крутой ,\n",
      "Вероятность негатива:  [0.5341462]\n",
      "\n"
     ]
    }
   ],
   "source": [
    "# Выведем 5 случайных комментариев c оценкой негатива первого видео\n",
    "for _ in range(5):\n",
    "\n",
    "    source = data_df.sample(n=1)\n",
    "    text_clear = source['comment'].values[0]\n",
    "    text = source['comment'].values[0]\n",
    "\n",
    "    print(text)\n",
    "\n",
    "    tf_idf_text = count_idf_1.transform([text_clear])\n",
    "\n",
    "    toxic_proba = model_lr_base_1.predict_proba(tf_idf_text)\n",
    "\n",
    "    print('Вероятность негатива: ', toxic_proba[:, 0])\n",
    "    print()"
   ]
  },
  {
   "cell_type": "code",
   "execution_count": null,
   "metadata": {
    "pycharm": {
     "name": "#%%\n"
    }
   },
   "outputs": [],
   "source": []
  },
  {
   "cell_type": "code",
   "execution_count": null,
   "metadata": {
    "pycharm": {
     "name": "#%%\n"
    }
   },
   "outputs": [],
   "source": []
  },
  {
   "cell_type": "code",
   "execution_count": null,
   "metadata": {
    "pycharm": {
     "name": "#%%\n"
    }
   },
   "outputs": [],
   "source": []
  },
  {
   "cell_type": "code",
   "execution_count": null,
   "metadata": {},
   "outputs": [],
   "source": []
  },
  {
   "cell_type": "code",
   "execution_count": null,
   "metadata": {},
   "outputs": [],
   "source": []
  }
 ],
 "metadata": {
  "colab": {
   "collapsed_sections": [],
   "history_visible": true,
   "name": "test.ipynb",
   "provenance": []
  },
  "gpuClass": "standard",
  "kernelspec": {
   "display_name": "Python 3 (ipykernel)",
   "language": "python",
   "name": "python3"
  },
  "language_info": {
   "codemirror_mode": {
    "name": "ipython",
    "version": 3
   },
   "file_extension": ".py",
   "mimetype": "text/x-python",
   "name": "python",
   "nbconvert_exporter": "python",
   "pygments_lexer": "ipython3",
   "version": "3.7.9"
  }
 },
 "nbformat": 4,
 "nbformat_minor": 1
}